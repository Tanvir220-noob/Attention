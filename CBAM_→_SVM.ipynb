{
  "nbformat": 4,
  "nbformat_minor": 0,
  "metadata": {
    "colab": {
      "provenance": [],
      "gpuType": "T4",
      "mount_file_id": "1WlH9YcyVksU-t0o1JbgfGSjwCCVsOnNh",
      "authorship_tag": "ABX9TyP1wnYUs0H/65VDJQn8ktlE",
      "include_colab_link": true
    },
    "kernelspec": {
      "name": "python3",
      "display_name": "Python 3"
    },
    "language_info": {
      "name": "python"
    },
    "accelerator": "GPU"
  },
  "cells": [
    {
      "cell_type": "markdown",
      "metadata": {
        "id": "view-in-github",
        "colab_type": "text"
      },
      "source": [
        "<a href=\"https://colab.research.google.com/github/Tanvir220-noob/Attention/blob/main/CBAM_%E2%86%92_SVM.ipynb\" target=\"_parent\"><img src=\"https://colab.research.google.com/assets/colab-badge.svg\" alt=\"Open In Colab\"/></a>"
      ]
    },
    {
      "cell_type": "code",
      "source": [
        "import os\n",
        "import numpy as np\n",
        "import matplotlib.pyplot as plt\n",
        "import tensorflow as tf\n",
        "from tensorflow.keras import layers, models, Input\n",
        "from tensorflow.keras.preprocessing.image import ImageDataGenerator\n",
        "\n",
        "from sklearn.ensemble import RandomForestClassifier\n",
        "from sklearn.model_selection import StratifiedKFold\n",
        "from sklearn.preprocessing import label_binarize\n",
        "from sklearn.metrics import (accuracy_score, precision_score, recall_score,\n",
        "                             f1_score, confusion_matrix, roc_auc_score, roc_curve, auc)\n",
        "np.random.seed(42)\n",
        "tf.random.set_seed(42)\n",
        "from tensorflow.keras.preprocessing.image import ImageDataGenerator\n",
        "from sklearn.svm import SVC\n",
        "from sklearn.metrics import accuracy_score, precision_score, recall_score, f1_score, confusion_matrix, roc_auc_score, roc_curve, auc"
      ],
      "metadata": {
        "id": "e3afgoc3iu8v"
      },
      "execution_count": 15,
      "outputs": []
    },
    {
      "cell_type": "code",
      "source": [
        "from google.colab import drive\n",
        "drive.mount('/content/drive')"
      ],
      "metadata": {
        "colab": {
          "base_uri": "https://localhost:8080/"
        },
        "id": "59ny62FiS7io",
        "outputId": "08de5e72-f926-4643-f06a-622b2556697c"
      },
      "execution_count": 16,
      "outputs": [
        {
          "output_type": "stream",
          "name": "stdout",
          "text": [
            "Drive already mounted at /content/drive; to attempt to forcibly remount, call drive.mount(\"/content/drive\", force_remount=True).\n"
          ]
        }
      ]
    },
    {
      "cell_type": "code",
      "source": [
        "!gdown 1-cMO7XFGYCMgdT459ql7heQqDN7e-4oa"
      ],
      "metadata": {
        "colab": {
          "base_uri": "https://localhost:8080/"
        },
        "id": "jM7qHXgwTECs",
        "outputId": "635caf34-521c-4386-fd1d-1bf24082327e"
      },
      "execution_count": 17,
      "outputs": [
        {
          "output_type": "stream",
          "name": "stdout",
          "text": [
            "Downloading...\n",
            "From (original): https://drive.google.com/uc?id=1-cMO7XFGYCMgdT459ql7heQqDN7e-4oa\n",
            "From (redirected): https://drive.google.com/uc?id=1-cMO7XFGYCMgdT459ql7heQqDN7e-4oa&confirm=t&uuid=8dba1aa4-b9c4-475d-8f59-282000a3c685\n",
            "To: /content/archive (2).zip\n",
            "100% 151M/151M [00:00<00:00, 270MB/s]\n"
          ]
        }
      ]
    },
    {
      "cell_type": "code",
      "source": [
        "import zipfile, os\n",
        "zip_path = \"/content/archive (2).zip\"\n",
        "extract_dir = \"/content/coffee-beans\"\n",
        "\n",
        "with zipfile.ZipFile(zip_path, 'r') as zip_ref:\n",
        "    zip_ref.extractall(extract_dir)\n",
        "\n",
        "# Now base_dir is:\n",
        "base_dir = extract_dir\n",
        "print(\"Base dir:\", base_dir)\n",
        "print(\"Folders:\", os.listdir(base_dir))"
      ],
      "metadata": {
        "colab": {
          "base_uri": "https://localhost:8080/"
        },
        "id": "xFcji7dfTM7o",
        "outputId": "7ded234b-a546-40d4-aa90-79677aaff41e"
      },
      "execution_count": 18,
      "outputs": [
        {
          "output_type": "stream",
          "name": "stdout",
          "text": [
            "Base dir: /content/coffee-beans\n",
            "Folders: ['Coffee Bean.csv', 'train', 'test']\n"
          ]
        }
      ]
    },
    {
      "cell_type": "code",
      "source": [
        "# ====== CBAM Block ======\n",
        "def cbam_block(feature_map, ratio=8):\n",
        "    channel = feature_map.shape[-1]\n",
        "\n",
        "    # Channel Attention\n",
        "    shared_dense_one = layers.Dense(channel // ratio, activation='relu',\n",
        "                                    kernel_initializer='he_normal', use_bias=True)\n",
        "    shared_dense_two = layers.Dense(channel, kernel_initializer='he_normal', use_bias=True)\n",
        "\n",
        "    avg_pool = layers.GlobalAveragePooling2D()(feature_map)\n",
        "    avg_pool = layers.Reshape((1,1,channel))(avg_pool)\n",
        "    avg_pool = shared_dense_one(avg_pool)\n",
        "    avg_pool = shared_dense_two(avg_pool)\n",
        "\n",
        "    max_pool = layers.GlobalMaxPooling2D()(feature_map)\n",
        "    max_pool = layers.Reshape((1,1,channel))(max_pool)\n",
        "    max_pool = shared_dense_one(max_pool)\n",
        "    max_pool = shared_dense_two(max_pool)\n",
        "\n",
        "    channel_attention = layers.Add()([avg_pool, max_pool])\n",
        "    channel_attention = layers.Activation('sigmoid')(channel_attention)\n",
        "    channel_refined = layers.Multiply()([feature_map, channel_attention])\n",
        "\n",
        "    # Spatial Attention\n",
        "    avg_pool_sp = layers.Lambda(lambda x: tf.reduce_mean(x, axis=3, keepdims=True))(channel_refined)\n",
        "    max_pool_sp = layers.Lambda(lambda x: tf.reduce_max(x, axis=3, keepdims=True))(channel_refined)\n",
        "    concat = layers.Concatenate(axis=3)([avg_pool_sp, max_pool_sp])\n",
        "    spatial_attention = layers.Conv2D(1, (7,7), padding='same', activation='sigmoid')(concat)\n",
        "\n",
        "    refined_feature = layers.Multiply()([channel_refined, spatial_attention])\n",
        "    return refined_feature"
      ],
      "metadata": {
        "id": "zIeDlVNMiu2j"
      },
      "execution_count": 19,
      "outputs": []
    },
    {
      "cell_type": "code",
      "source": [
        "# ====== CBAM-CNN Backbone ======\n",
        "def build_cbam_cnn(input_shape=(128,128,3), num_classes=4):\n",
        "    inputs = Input(shape=input_shape)\n",
        "\n",
        "    # Block 1\n",
        "    x = layers.Conv2D(32, (3,3), activation='relu', padding='same')(inputs)\n",
        "    x = layers.MaxPooling2D((2,2))(x)\n",
        "    x = cbam_block(x)\n",
        "\n",
        "    # Block 2\n",
        "    x = layers.Conv2D(64, (3,3), activation='relu', padding='same')(x)\n",
        "    x = layers.MaxPooling2D((2,2))(x)\n",
        "    x = cbam_block(x)\n",
        "\n",
        "    # Block 3\n",
        "    x = layers.Conv2D(128, (3,3), activation='relu', padding='same')(x)\n",
        "    x = layers.MaxPooling2D((2,2))(x)\n",
        "    x = cbam_block(x)\n",
        "\n",
        "    # Head\n",
        "    x = layers.GlobalAveragePooling2D(name=\"gap\")(x)\n",
        "    x = layers.Dense(256, activation='relu', name=\"feat_dense\")(x)   # <-- features we'll extract\n",
        "    x = layers.Dropout(0.5)(x)\n",
        "    outputs = layers.Dense(num_classes, activation='softmax', name=\"softmax\")(x)\n",
        "\n",
        "    model = models.Model(inputs, outputs)\n",
        "    return model"
      ],
      "metadata": {
        "id": "JPUbvzVtThDy"
      },
      "execution_count": 20,
      "outputs": []
    },
    {
      "cell_type": "code",
      "source": [
        "# Data directories\n",
        "train_dir = \"/content/coffee-beans/train\"\n",
        "test_dir = \"/content/coffee-beans/test\"\n",
        "\n",
        "# ImageDataGenerators\n",
        "train_datagen = ImageDataGenerator(\n",
        "    rescale=1./255,\n",
        "    rotation_range=30,\n",
        "    width_shift_range=0.2,\n",
        "    height_shift_range=0.2,\n",
        "    shear_range=0.2,\n",
        "    zoom_range=0.2,\n",
        "    brightness_range=[0.8, 1.2],\n",
        "    horizontal_flip=True,\n",
        "    fill_mode='nearest'\n",
        ")\n",
        "\n",
        "test_datagen = ImageDataGenerator(rescale=1./255)\n",
        "\n",
        "train_gen = train_datagen.flow_from_directory(\n",
        "    train_dir,\n",
        "    target_size=(128,128),\n",
        "    batch_size=32,\n",
        "    class_mode='categorical',\n",
        "    shuffle=True\n",
        ")\n",
        "\n",
        "test_gen = test_datagen.flow_from_directory(\n",
        "    test_dir,\n",
        "    target_size=(128,128),\n",
        "    batch_size=32,\n",
        "    class_mode='categorical',\n",
        "    shuffle=False\n",
        ")\n",
        "\n",
        "# Final sanity check\n",
        "print(\"Train classes mapping:\", train_gen.class_indices)\n",
        "print(\"Test classes mapping:\", test_gen.class_indices)"
      ],
      "metadata": {
        "colab": {
          "base_uri": "https://localhost:8080/"
        },
        "id": "zKqmybzVjFcH",
        "outputId": "2fcc27c0-f2cf-4556-888e-73e25becf28d"
      },
      "execution_count": 21,
      "outputs": [
        {
          "output_type": "stream",
          "name": "stdout",
          "text": [
            "Found 1200 images belonging to 4 classes.\n",
            "Found 400 images belonging to 4 classes.\n",
            "Train classes mapping: {'Dark': 0, 'Green': 1, 'Light': 2, 'Medium': 3}\n",
            "Test classes mapping: {'Dark': 0, 'Green': 1, 'Light': 2, 'Medium': 3}\n"
          ]
        }
      ]
    },
    {
      "cell_type": "code",
      "source": [
        "# ====== Train CBAM-CNN ======\n",
        "# ====== Train CBAM-CNN ======\n",
        "\n",
        "# get number of classes dynamically from generator\n",
        "num_classes = train_gen.num_classes\n",
        "\n",
        "cbam_model = build_cbam_cnn(input_shape=(128,128,3), num_classes=num_classes)\n",
        "\n",
        "cbam_model.compile(\n",
        "    optimizer='adam',\n",
        "    loss='categorical_crossentropy',\n",
        "    metrics=['accuracy']\n",
        ")\n",
        "\n",
        "history = cbam_model.fit(\n",
        "    train_gen,\n",
        "    validation_data=test_gen,\n",
        "    epochs=20,\n",
        "    verbose=1\n",
        ")"
      ],
      "metadata": {
        "colab": {
          "base_uri": "https://localhost:8080/"
        },
        "id": "yM7_MHn7T5E5",
        "outputId": "b8ab7642-4eba-451f-8fbe-d7c21ff0e65e"
      },
      "execution_count": 22,
      "outputs": [
        {
          "output_type": "stream",
          "name": "stderr",
          "text": [
            "/usr/local/lib/python3.12/dist-packages/keras/src/trainers/data_adapters/py_dataset_adapter.py:121: UserWarning: Your `PyDataset` class should call `super().__init__(**kwargs)` in its constructor. `**kwargs` can include `workers`, `use_multiprocessing`, `max_queue_size`. Do not pass these arguments to `fit()`, as they will be ignored.\n",
            "  self._warn_if_super_not_called()\n"
          ]
        },
        {
          "output_type": "stream",
          "name": "stdout",
          "text": [
            "Epoch 1/20\n",
            "\u001b[1m38/38\u001b[0m \u001b[32m━━━━━━━━━━━━━━━━━━━━\u001b[0m\u001b[37m\u001b[0m \u001b[1m26s\u001b[0m 429ms/step - accuracy: 0.2655 - loss: 1.3866 - val_accuracy: 0.2500 - val_loss: 1.3861\n",
            "Epoch 2/20\n",
            "\u001b[1m38/38\u001b[0m \u001b[32m━━━━━━━━━━━━━━━━━━━━\u001b[0m\u001b[37m\u001b[0m \u001b[1m9s\u001b[0m 250ms/step - accuracy: 0.2666 - loss: 1.3849 - val_accuracy: 0.2500 - val_loss: 1.3193\n",
            "Epoch 3/20\n",
            "\u001b[1m38/38\u001b[0m \u001b[32m━━━━━━━━━━━━━━━━━━━━\u001b[0m\u001b[37m\u001b[0m \u001b[1m9s\u001b[0m 234ms/step - accuracy: 0.3852 - loss: 1.1411 - val_accuracy: 0.4600 - val_loss: 1.0288\n",
            "Epoch 4/20\n",
            "\u001b[1m38/38\u001b[0m \u001b[32m━━━━━━━━━━━━━━━━━━━━\u001b[0m\u001b[37m\u001b[0m \u001b[1m9s\u001b[0m 213ms/step - accuracy: 0.6673 - loss: 0.7028 - val_accuracy: 0.5250 - val_loss: 0.9441\n",
            "Epoch 5/20\n",
            "\u001b[1m38/38\u001b[0m \u001b[32m━━━━━━━━━━━━━━━━━━━━\u001b[0m\u001b[37m\u001b[0m \u001b[1m11s\u001b[0m 285ms/step - accuracy: 0.6683 - loss: 0.6749 - val_accuracy: 0.6500 - val_loss: 0.7408\n",
            "Epoch 6/20\n",
            "\u001b[1m38/38\u001b[0m \u001b[32m━━━━━━━━━━━━━━━━━━━━\u001b[0m\u001b[37m\u001b[0m \u001b[1m10s\u001b[0m 252ms/step - accuracy: 0.7094 - loss: 0.6241 - val_accuracy: 0.5675 - val_loss: 0.9583\n",
            "Epoch 7/20\n",
            "\u001b[1m38/38\u001b[0m \u001b[32m━━━━━━━━━━━━━━━━━━━━\u001b[0m\u001b[37m\u001b[0m \u001b[1m8s\u001b[0m 211ms/step - accuracy: 0.7791 - loss: 0.5087 - val_accuracy: 0.6175 - val_loss: 0.8504\n",
            "Epoch 8/20\n",
            "\u001b[1m38/38\u001b[0m \u001b[32m━━━━━━━━━━━━━━━━━━━━\u001b[0m\u001b[37m\u001b[0m \u001b[1m9s\u001b[0m 243ms/step - accuracy: 0.7801 - loss: 0.4892 - val_accuracy: 0.5400 - val_loss: 1.0375\n",
            "Epoch 9/20\n",
            "\u001b[1m38/38\u001b[0m \u001b[32m━━━━━━━━━━━━━━━━━━━━\u001b[0m\u001b[37m\u001b[0m \u001b[1m10s\u001b[0m 252ms/step - accuracy: 0.7668 - loss: 0.4834 - val_accuracy: 0.6525 - val_loss: 0.7364\n",
            "Epoch 10/20\n",
            "\u001b[1m38/38\u001b[0m \u001b[32m━━━━━━━━━━━━━━━━━━━━\u001b[0m\u001b[37m\u001b[0m \u001b[1m11s\u001b[0m 269ms/step - accuracy: 0.8213 - loss: 0.4254 - val_accuracy: 0.6575 - val_loss: 0.7761\n",
            "Epoch 11/20\n",
            "\u001b[1m38/38\u001b[0m \u001b[32m━━━━━━━━━━━━━━━━━━━━\u001b[0m\u001b[37m\u001b[0m \u001b[1m8s\u001b[0m 218ms/step - accuracy: 0.8222 - loss: 0.4230 - val_accuracy: 0.6375 - val_loss: 0.8258\n",
            "Epoch 12/20\n",
            "\u001b[1m38/38\u001b[0m \u001b[32m━━━━━━━━━━━━━━━━━━━━\u001b[0m\u001b[37m\u001b[0m \u001b[1m9s\u001b[0m 247ms/step - accuracy: 0.8765 - loss: 0.3264 - val_accuracy: 0.8575 - val_loss: 0.3479\n",
            "Epoch 13/20\n",
            "\u001b[1m38/38\u001b[0m \u001b[32m━━━━━━━━━━━━━━━━━━━━\u001b[0m\u001b[37m\u001b[0m \u001b[1m9s\u001b[0m 229ms/step - accuracy: 0.9012 - loss: 0.2690 - val_accuracy: 0.7475 - val_loss: 0.7600\n",
            "Epoch 14/20\n",
            "\u001b[1m38/38\u001b[0m \u001b[32m━━━━━━━━━━━━━━━━━━━━\u001b[0m\u001b[37m\u001b[0m \u001b[1m10s\u001b[0m 211ms/step - accuracy: 0.9403 - loss: 0.1696 - val_accuracy: 0.8275 - val_loss: 0.4223\n",
            "Epoch 15/20\n",
            "\u001b[1m38/38\u001b[0m \u001b[32m━━━━━━━━━━━━━━━━━━━━\u001b[0m\u001b[37m\u001b[0m \u001b[1m10s\u001b[0m 253ms/step - accuracy: 0.9299 - loss: 0.1901 - val_accuracy: 0.8125 - val_loss: 0.4779\n",
            "Epoch 16/20\n",
            "\u001b[1m38/38\u001b[0m \u001b[32m━━━━━━━━━━━━━━━━━━━━\u001b[0m\u001b[37m\u001b[0m \u001b[1m10s\u001b[0m 252ms/step - accuracy: 0.9734 - loss: 0.0868 - val_accuracy: 0.9650 - val_loss: 0.0996\n",
            "Epoch 17/20\n",
            "\u001b[1m38/38\u001b[0m \u001b[32m━━━━━━━━━━━━━━━━━━━━\u001b[0m\u001b[37m\u001b[0m \u001b[1m9s\u001b[0m 229ms/step - accuracy: 0.9497 - loss: 0.1337 - val_accuracy: 0.9175 - val_loss: 0.1884\n",
            "Epoch 18/20\n",
            "\u001b[1m38/38\u001b[0m \u001b[32m━━━━━━━━━━━━━━━━━━━━\u001b[0m\u001b[37m\u001b[0m \u001b[1m9s\u001b[0m 250ms/step - accuracy: 0.9540 - loss: 0.1370 - val_accuracy: 0.8550 - val_loss: 0.3602\n",
            "Epoch 19/20\n",
            "\u001b[1m38/38\u001b[0m \u001b[32m━━━━━━━━━━━━━━━━━━━━\u001b[0m\u001b[37m\u001b[0m \u001b[1m9s\u001b[0m 250ms/step - accuracy: 0.9680 - loss: 0.0701 - val_accuracy: 0.8525 - val_loss: 0.4009\n",
            "Epoch 20/20\n",
            "\u001b[1m38/38\u001b[0m \u001b[32m━━━━━━━━━━━━━━━━━━━━\u001b[0m\u001b[37m\u001b[0m \u001b[1m8s\u001b[0m 213ms/step - accuracy: 0.9610 - loss: 0.1250 - val_accuracy: 0.8675 - val_loss: 0.3060\n"
          ]
        }
      ]
    },
    {
      "cell_type": "code",
      "source": [
        "# ====== Feature Extraction ======\n",
        "feature_extractor = models.Model(\n",
        "    inputs=cbam_model.input,\n",
        "    outputs=cbam_model.get_layer(\"feat_dense\").output  # 256-d features\n",
        ")\n",
        "\n",
        "X_train = feature_extractor.predict(train_gen, verbose=1)\n",
        "X_val   = feature_extractor.predict(test_gen, verbose=1)\n",
        "\n",
        "y_train = train_gen.classes\n",
        "y_val   = test_gen.classes\n",
        "unique_classes = np.unique(y_train)"
      ],
      "metadata": {
        "colab": {
          "base_uri": "https://localhost:8080/"
        },
        "id": "mtOMDXLKT92P",
        "outputId": "6c06adbc-23de-4099-d7a8-0f89c4351b0f"
      },
      "execution_count": 23,
      "outputs": [
        {
          "output_type": "stream",
          "name": "stdout",
          "text": [
            "\u001b[1m38/38\u001b[0m \u001b[32m━━━━━━━━━━━━━━━━━━━━\u001b[0m\u001b[37m\u001b[0m \u001b[1m10s\u001b[0m 213ms/step\n",
            "\u001b[1m13/13\u001b[0m \u001b[32m━━━━━━━━━━━━━━━━━━━━\u001b[0m\u001b[37m\u001b[0m \u001b[1m1s\u001b[0m 85ms/step\n"
          ]
        }
      ]
    },
    {
      "cell_type": "code",
      "source": [
        "# ====== Support Vector Machine (CV on Train Features) ======\n",
        "\n",
        "kf = StratifiedKFold(n_splits=3, shuffle=True, random_state=42)\n",
        "fold = 1\n",
        "acc_list, auc_list = [], []\n",
        "\n",
        "for tr_idx, te_idx in kf.split(X_train, y_train):\n",
        "    X_tr, X_te = X_train[tr_idx], X_train[te_idx]\n",
        "    y_tr, y_te = y_train[tr_idx], y_train[te_idx]\n",
        "\n",
        "    # Use Support Vector Classifier\n",
        "    svm = SVC(probability=True, random_state=42) # probability=True for AUC\n",
        "    svm.fit(X_tr, y_tr)\n",
        "\n",
        "    y_pred  = svm.predict(X_te)\n",
        "    y_proba = svm.predict_proba(X_te)\n",
        "\n",
        "    acc = accuracy_score(y_te, y_pred)\n",
        "    acc_list.append(acc)\n",
        "\n",
        "    # Multi-class ROC-AUC (One-vs-Rest)\n",
        "    y_te_bin = label_binarize(y_te, classes=unique_classes)\n",
        "    # if a fold is missing a class, skip AUC\n",
        "    if y_te_bin.shape[1] < num_classes:\n",
        "        print(f\"Fold {fold} - Accuracy: {acc:.4f}, ROC-AUC skipped (not all classes in fold)\")\n",
        "        auc_list.append(np.nan)\n",
        "    else:\n",
        "        # Align columns of y_proba to unique_classes order\n",
        "        # svm.classes_ gives column order in predict_proba\n",
        "        class_order = svm.classes_\n",
        "        reorder_idx = [np.where(class_order == c)[0][0] for c in unique_classes]\n",
        "        y_proba_ordered = y_proba[:, reorder_idx]\n",
        "\n",
        "        auc_score = roc_auc_score(y_te_bin, y_proba_ordered, multi_class='ovr')\n",
        "        auc_list.append(auc_score)\n",
        "        print(f\"Fold {fold} - Accuracy: {acc:.4f}, AUC: {auc_score:.4f}\")\n",
        "\n",
        "    fold += 1\n",
        "\n",
        "print(\"Mean CV Accuracy:\", np.nanmean(acc_list))\n",
        "print(\"Mean CV AUC:\", np.nanmean(auc_list))"
      ],
      "metadata": {
        "colab": {
          "base_uri": "https://localhost:8080/"
        },
        "id": "jfQXGb1-UBwE",
        "outputId": "29fac5f3-de40-40f9-bfbb-645a7764fb4d"
      },
      "execution_count": 24,
      "outputs": [
        {
          "output_type": "stream",
          "name": "stdout",
          "text": [
            "Fold 1 - Accuracy: 0.2475, AUC: 0.4824\n",
            "Fold 2 - Accuracy: 0.2550, AUC: 0.4672\n",
            "Fold 3 - Accuracy: 0.2650, AUC: 0.5017\n",
            "Mean CV Accuracy: 0.2558333333333333\n",
            "Mean CV AUC: 0.4837888888888889\n"
          ]
        }
      ]
    },
    {
      "cell_type": "code",
      "source": [
        "# ====== Train SVM on Full Train Features & Evaluate on Validation ======\n",
        "svm_final = SVC(probability=True, random_state=42) # probability=True for AUC\n",
        "svm_final.fit(X_train, y_train)\n",
        "\n",
        "y_val_pred  = svm_final.predict(X_val)\n",
        "y_val_proba = svm_final.predict_proba(X_val)\n",
        "\n",
        "print(\"\\n=== Validation Metrics ===\")\n",
        "print(\"Accuracy:\", accuracy_score(y_val, y_val_pred))\n",
        "print(\"Precision (macro):\", precision_score(y_val, y_val_pred, average='macro'))\n",
        "print(\"Recall (macro):\", recall_score(y_val, y_val_pred, average='macro'))\n",
        "print(\"F1-score (macro):\", f1_score(y_val, y_val_pred, average='macro'))\n",
        "print(\"Confusion Matrix:\\n\", confusion_matrix(y_val, y_val_pred))\n",
        "\n",
        "# Calculate and print ROC-AUC for validation set\n",
        "y_val_bin = label_binarize(y_val, classes=unique_classes)\n",
        "# Align columns of y_val_proba to unique_classes order\n",
        "class_order = svm_final.classes_\n",
        "reorder_idx = [np.where(class_order == c)[0][0] for c in unique_classes]\n",
        "y_val_proba_ordered = y_val_proba[:, reorder_idx]\n",
        "\n",
        "auc_score_val = roc_auc_score(y_val_bin, y_val_proba_ordered, multi_class='ovr')\n",
        "print(\"ROC-AUC (OvR):\", auc_score_val)"
      ],
      "metadata": {
        "colab": {
          "base_uri": "https://localhost:8080/"
        },
        "id": "woaM1eDSkoQP",
        "outputId": "dd72f2ab-35ab-4e89-c850-97f175ce9498"
      },
      "execution_count": 26,
      "outputs": [
        {
          "output_type": "stream",
          "name": "stdout",
          "text": [
            "\n",
            "=== Validation Metrics ===\n",
            "Accuracy: 0.3275\n",
            "Precision (macro): 0.31466200466200467\n",
            "Recall (macro): 0.3275\n",
            "F1-score (macro): 0.3197345989926385\n",
            "Confusion Matrix:\n",
            " [[ 0  0  1 99]\n",
            " [ 0 99  1  0]\n",
            " [88  1  5  6]\n",
            " [ 2  0 71 27]]\n",
            "ROC-AUC (OvR): 0.6825166666666667\n"
          ]
        }
      ]
    },
    {
      "cell_type": "code",
      "source": [
        "from sklearn.metrics import accuracy_score, precision_score, recall_score, f1_score, confusion_matrix, roc_auc_score, roc_curve, auc\n",
        "from sklearn.preprocessing import label_binarize\n",
        "import matplotlib.pyplot as plt\n",
        "import numpy as np\n",
        "\n",
        "# ====== Validation metrics ======\n",
        "y_val_pred = svm_final.predict(X_val)\n",
        "y_val_proba = svm_final.predict_proba(X_val)\n",
        "\n",
        "print(\"Accuracy:\", accuracy_score(y_val, y_val_pred))\n",
        "print(\"Precision:\", precision_score(y_val, y_val_pred, average='macro'))\n",
        "print(\"Recall:\", recall_score(y_val, y_val_pred, average='macro'))\n",
        "print(\"F1-score:\", f1_score(y_val, y_val_pred, average='macro'))\n",
        "print(\"Confusion Matrix:\\n\", confusion_matrix(y_val, y_val_pred))\n",
        "\n",
        "# ====== ROC-AUC ======\n",
        "unique_classes = np.unique(y_val)  # ensure consistent ordering\n",
        "y_val_bin = label_binarize(y_val, classes=unique_classes)\n",
        "\n",
        "if y_val_bin.shape[1] < len(unique_classes):\n",
        "    print(\"ROC-AUC skipped: not all classes present in validation set\")\n",
        "else:\n",
        "    # Reorder probability columns to match unique_classes\n",
        "    class_order = svm_final.classes_\n",
        "    reorder_idx = [np.where(class_order == c)[0][0] for c in unique_classes]\n",
        "    y_val_proba_ordered = y_val_proba[:, reorder_idx]\n",
        "\n",
        "    val_auc = roc_auc_score(y_val_bin, y_val_proba_ordered, multi_class='ovr')\n",
        "    print(\"Validation AUC (OvR):\", val_auc)\n",
        "\n",
        "    # ====== ROC Curves (per class) ======\n",
        "    # Create int -> class label mapping\n",
        "    idx_to_class = {v:k for k,v in train_gen.class_indices.items()}  # 0->'Dark', etc.\n",
        "\n",
        "    plt.figure(figsize=(8,6))\n",
        "    for i, cls in enumerate(unique_classes):\n",
        "        fpr, tpr, _ = roc_curve(y_val_bin[:, i], y_val_proba_ordered[:, i])\n",
        "        plt.plot(fpr, tpr, label=f\"{idx_to_class[cls]} (AUC = {auc(fpr, tpr):.2f})\")\n",
        "\n",
        "    plt.plot([0,1], [0,1], 'k--')\n",
        "    plt.xlabel(\"False Positive Rate\")\n",
        "    plt.ylabel(\"True Positive Rate\")\n",
        "    plt.title(\"ROC Curves (Validation Set) - SVM on CBAM-CNN Features\")\n",
        "    plt.legend()\n",
        "    plt.show()"
      ],
      "metadata": {
        "colab": {
          "base_uri": "https://localhost:8080/",
          "height": 747
        },
        "id": "wn8bYDmWjlkE",
        "outputId": "05460e5a-b1a0-4bfe-93f9-dc68f3cc8402"
      },
      "execution_count": 27,
      "outputs": [
        {
          "output_type": "stream",
          "name": "stdout",
          "text": [
            "Accuracy: 0.3275\n",
            "Precision: 0.31466200466200467\n",
            "Recall: 0.3275\n",
            "F1-score: 0.3197345989926385\n",
            "Confusion Matrix:\n",
            " [[ 0  0  1 99]\n",
            " [ 0 99  1  0]\n",
            " [88  1  5  6]\n",
            " [ 2  0 71 27]]\n",
            "Validation AUC (OvR): 0.6825166666666667\n"
          ]
        },
        {
          "output_type": "display_data",
          "data": {
            "text/plain": [
              "<Figure size 800x600 with 1 Axes>"
            ],
            "image/png": "[encoded data removed]"
          },
          "metadata": {}
        }
      ]
    },
    {
      "cell_type": "code",
      "source": [],
      "metadata": {
        "id": "jlkTKYPXkmxK"
      },
      "execution_count": null,
      "outputs": []
    }
  ]
}