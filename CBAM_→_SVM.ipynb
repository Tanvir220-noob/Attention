{
  "nbformat": 4,
  "nbformat_minor": 0,
  "metadata": {
    "colab": {
      "provenance": [],
      "gpuType": "T4",
      "mount_file_id": "1WlH9YcyVksU-t0o1JbgfGSjwCCVsOnNh",
      "authorship_tag": "ABX9TyOHMF8ldhoX+lfG8LSMmpR+",
      "include_colab_link": true
    },
    "kernelspec": {
      "name": "python3",
      "display_name": "Python 3"
    },
    "language_info": {
      "name": "python"
    },
    "accelerator": "GPU"
  },
  "cells": [
    {
      "cell_type": "markdown",
      "metadata": {
        "id": "view-in-github",
        "colab_type": "text"
      },
      "source": [
        "<a href=\"https://colab.research.google.com/github/Tanvir220-noob/Attention/blob/main/CBAM_%E2%86%92_SVM.ipynb\" target=\"_parent\"><img src=\"https://colab.research.google.com/assets/colab-badge.svg\" alt=\"Open In Colab\"/></a>"
      ]
    },
    {
      "cell_type": "code",
      "source": [
        "import os\n",
        "import numpy as np\n",
        "import matplotlib.pyplot as plt\n",
        "import tensorflow as tf\n",
        "from tensorflow.keras import layers, models, Input\n",
        "from tensorflow.keras.preprocessing.image import ImageDataGenerator\n",
        "\n",
        "from sklearn.ensemble import RandomForestClassifier\n",
        "from sklearn.model_selection import StratifiedKFold\n",
        "from sklearn.preprocessing import label_binarize\n",
        "from sklearn.metrics import (accuracy_score, precision_score, recall_score,\n",
        "                             f1_score, confusion_matrix, roc_auc_score, roc_curve, auc)\n",
        "np.random.seed(42)\n",
        "tf.random.set_seed(42)\n",
        "from tensorflow.keras.preprocessing.image import ImageDataGenerator\n",
        "from sklearn.svm import SVC"
      ],
      "metadata": {
        "id": "e3afgoc3iu8v"
      },
      "execution_count": 7,
      "outputs": []
    },
    {
      "cell_type": "code",
      "source": [
        "from google.colab import drive\n",
        "drive.mount('/content/drive')"
      ],
      "metadata": {
        "colab": {
          "base_uri": "https://localhost:8080/"
        },
        "id": "59ny62FiS7io",
        "outputId": "497027ca-205d-44e4-c42e-7b4b1616bf8f"
      },
      "execution_count": 1,
      "outputs": [
        {
          "output_type": "stream",
          "name": "stdout",
          "text": [
            "Drive already mounted at /content/drive; to attempt to forcibly remount, call drive.mount(\"/content/drive\", force_remount=True).\n"
          ]
        }
      ]
    },
    {
      "cell_type": "code",
      "source": [
        "!gdown 1-cMO7XFGYCMgdT459ql7heQqDN7e-4oa"
      ],
      "metadata": {
        "colab": {
          "base_uri": "https://localhost:8080/"
        },
        "id": "jM7qHXgwTECs",
        "outputId": "2f700927-f4c3-4264-f8c2-95bf0841f6b5"
      },
      "execution_count": 2,
      "outputs": [
        {
          "output_type": "stream",
          "name": "stdout",
          "text": [
            "Downloading...\n",
            "From (original): https://drive.google.com/uc?id=1-cMO7XFGYCMgdT459ql7heQqDN7e-4oa\n",
            "From (redirected): https://drive.google.com/uc?id=1-cMO7XFGYCMgdT459ql7heQqDN7e-4oa&confirm=t&uuid=fae4b489-a168-4c08-84b6-04261ff9bad3\n",
            "To: /content/archive (2).zip\n",
            "100% 151M/151M [00:00<00:00, 163MB/s]\n"
          ]
        }
      ]
    },
    {
      "cell_type": "code",
      "source": [
        "import zipfile, os\n",
        "zip_path = \"/content/archive (2).zip\"\n",
        "extract_dir = \"/content/coffee-beans\"\n",
        "\n",
        "with zipfile.ZipFile(zip_path, 'r') as zip_ref:\n",
        "    zip_ref.extractall(extract_dir)\n",
        "\n",
        "# Now base_dir is:\n",
        "base_dir = extract_dir\n",
        "print(\"Base dir:\", base_dir)\n",
        "print(\"Folders:\", os.listdir(base_dir))"
      ],
      "metadata": {
        "colab": {
          "base_uri": "https://localhost:8080/"
        },
        "id": "xFcji7dfTM7o",
        "outputId": "ca152f8e-0630-48b1-be0c-82e7fbbc2bc7"
      },
      "execution_count": 3,
      "outputs": [
        {
          "output_type": "stream",
          "name": "stdout",
          "text": [
            "Base dir: /content/coffee-beans\n",
            "Folders: ['Coffee Bean.csv', 'train', 'test']\n"
          ]
        }
      ]
    },
    {
      "cell_type": "code",
      "source": [
        "# ====== CBAM Block ======\n",
        "def cbam_block(feature_map, ratio=8):\n",
        "    channel = feature_map.shape[-1]\n",
        "\n",
        "    # Channel Attention\n",
        "    shared_dense_one = layers.Dense(channel // ratio, activation='relu',\n",
        "                                    kernel_initializer='he_normal', use_bias=True)\n",
        "    shared_dense_two = layers.Dense(channel, kernel_initializer='he_normal', use_bias=True)\n",
        "\n",
        "    avg_pool = layers.GlobalAveragePooling2D()(feature_map)\n",
        "    avg_pool = layers.Reshape((1,1,channel))(avg_pool)\n",
        "    avg_pool = shared_dense_one(avg_pool)\n",
        "    avg_pool = shared_dense_two(avg_pool)\n",
        "\n",
        "    max_pool = layers.GlobalMaxPooling2D()(feature_map)\n",
        "    max_pool = layers.Reshape((1,1,channel))(max_pool)\n",
        "    max_pool = shared_dense_one(max_pool)\n",
        "    max_pool = shared_dense_two(max_pool)\n",
        "\n",
        "    channel_attention = layers.Add()([avg_pool, max_pool])\n",
        "    channel_attention = layers.Activation('sigmoid')(channel_attention)\n",
        "    channel_refined = layers.Multiply()([feature_map, channel_attention])\n",
        "\n",
        "    # Spatial Attention\n",
        "    avg_pool_sp = layers.Lambda(lambda x: tf.reduce_mean(x, axis=3, keepdims=True))(channel_refined)\n",
        "    max_pool_sp = layers.Lambda(lambda x: tf.reduce_max(x, axis=3, keepdims=True))(channel_refined)\n",
        "    concat = layers.Concatenate(axis=3)([avg_pool_sp, max_pool_sp])\n",
        "    spatial_attention = layers.Conv2D(1, (7,7), padding='same', activation='sigmoid')(concat)\n",
        "\n",
        "    refined_feature = layers.Multiply()([channel_refined, spatial_attention])\n",
        "    return refined_feature"
      ],
      "metadata": {
        "id": "zIeDlVNMiu2j"
      },
      "execution_count": 4,
      "outputs": []
    },
    {
      "cell_type": "code",
      "source": [
        "# ====== CBAM-CNN Backbone ======\n",
        "def build_cbam_cnn(input_shape=(128,128,3), num_classes=4):\n",
        "    inputs = Input(shape=input_shape)\n",
        "\n",
        "    # Block 1\n",
        "    x = layers.Conv2D(32, (3,3), activation='relu', padding='same')(inputs)\n",
        "    x = layers.MaxPooling2D((2,2))(x)\n",
        "    x = cbam_block(x)\n",
        "\n",
        "    # Block 2\n",
        "    x = layers.Conv2D(64, (3,3), activation='relu', padding='same')(x)\n",
        "    x = layers.MaxPooling2D((2,2))(x)\n",
        "    x = cbam_block(x)\n",
        "\n",
        "    # Block 3\n",
        "    x = layers.Conv2D(128, (3,3), activation='relu', padding='same')(x)\n",
        "    x = layers.MaxPooling2D((2,2))(x)\n",
        "    x = cbam_block(x)\n",
        "\n",
        "    # Head\n",
        "    x = layers.GlobalAveragePooling2D(name=\"gap\")(x)\n",
        "    x = layers.Dense(256, activation='relu', name=\"feat_dense\")(x)   # <-- features we'll extract\n",
        "    x = layers.Dropout(0.5)(x)\n",
        "    outputs = layers.Dense(num_classes, activation='softmax', name=\"softmax\")(x)\n",
        "\n",
        "    model = models.Model(inputs, outputs)\n",
        "    return model"
      ],
      "metadata": {
        "id": "JPUbvzVtThDy"
      },
      "execution_count": 5,
      "outputs": []
    },
    {
      "cell_type": "code",
      "source": [
        "# Data directories\n",
        "train_dir = \"/content/coffee-beans/train\"\n",
        "test_dir = \"/content/coffee-beans/test\"\n",
        "\n",
        "# ImageDataGenerators\n",
        "train_datagen = ImageDataGenerator(\n",
        "    rescale=1./255,\n",
        "    rotation_range=30,\n",
        "    width_shift_range=0.2,\n",
        "    height_shift_range=0.2,\n",
        "    shear_range=0.2,\n",
        "    zoom_range=0.2,\n",
        "    brightness_range=[0.8, 1.2],\n",
        "    horizontal_flip=True,\n",
        "    fill_mode='nearest'\n",
        ")\n",
        "\n",
        "test_datagen = ImageDataGenerator(rescale=1./255)\n",
        "\n",
        "train_gen = train_datagen.flow_from_directory(\n",
        "    train_dir,\n",
        "    target_size=(128,128),\n",
        "    batch_size=32,\n",
        "    class_mode='categorical',\n",
        "    shuffle=True\n",
        ")\n",
        "\n",
        "test_gen = test_datagen.flow_from_directory(\n",
        "    test_dir,\n",
        "    target_size=(128,128),\n",
        "    batch_size=32,\n",
        "    class_mode='categorical',\n",
        "    shuffle=False\n",
        ")\n",
        "\n",
        "# Final sanity check\n",
        "print(\"Train classes mapping:\", train_gen.class_indices)\n",
        "print(\"Test classes mapping:\", test_gen.class_indices)"
      ],
      "metadata": {
        "colab": {
          "base_uri": "https://localhost:8080/"
        },
        "id": "zKqmybzVjFcH",
        "outputId": "e03757a5-bc82-464c-c5f9-ce0530665529"
      },
      "execution_count": 8,
      "outputs": [
        {
          "output_type": "stream",
          "name": "stdout",
          "text": [
            "Found 1200 images belonging to 4 classes.\n",
            "Found 400 images belonging to 4 classes.\n",
            "Train classes mapping: {'Dark': 0, 'Green': 1, 'Light': 2, 'Medium': 3}\n",
            "Test classes mapping: {'Dark': 0, 'Green': 1, 'Light': 2, 'Medium': 3}\n"
          ]
        }
      ]
    },
    {
      "cell_type": "code",
      "source": [
        "# ====== Train CBAM-CNN ======\n",
        "# ====== Train CBAM-CNN ======\n",
        "\n",
        "# get number of classes dynamically from generator\n",
        "num_classes = train_gen.num_classes\n",
        "\n",
        "cbam_model = build_cbam_cnn(input_shape=(128,128,3), num_classes=num_classes)\n",
        "\n",
        "cbam_model.compile(\n",
        "    optimizer='adam',\n",
        "    loss='categorical_crossentropy',\n",
        "    metrics=['accuracy']\n",
        ")\n",
        "\n",
        "history = cbam_model.fit(\n",
        "    train_gen,\n",
        "    validation_data=test_gen,\n",
        "    epochs=20,\n",
        "    verbose=1\n",
        ")"
      ],
      "metadata": {
        "colab": {
          "base_uri": "https://localhost:8080/"
        },
        "id": "yM7_MHn7T5E5",
        "outputId": "9fde4e59-99f8-41e3-959a-60cb562c0e21"
      },
      "execution_count": 9,
      "outputs": [
        {
          "output_type": "stream",
          "name": "stderr",
          "text": [
            "/usr/local/lib/python3.12/dist-packages/keras/src/trainers/data_adapters/py_dataset_adapter.py:121: UserWarning: Your `PyDataset` class should call `super().__init__(**kwargs)` in its constructor. `**kwargs` can include `workers`, `use_multiprocessing`, `max_queue_size`. Do not pass these arguments to `fit()`, as they will be ignored.\n",
            "  self._warn_if_super_not_called()\n"
          ]
        },
        {
          "output_type": "stream",
          "name": "stdout",
          "text": [
            "Epoch 1/20\n",
            "\u001b[1m38/38\u001b[0m \u001b[32m━━━━━━━━━━━━━━━━━━━━\u001b[0m\u001b[37m\u001b[0m \u001b[1m36s\u001b[0m 617ms/step - accuracy: 0.2569 - loss: 1.3866 - val_accuracy: 0.2500 - val_loss: 1.3858\n",
            "Epoch 2/20\n",
            "\u001b[1m38/38\u001b[0m \u001b[32m━━━━━━━━━━━━━━━━━━━━\u001b[0m\u001b[37m\u001b[0m \u001b[1m10s\u001b[0m 270ms/step - accuracy: 0.2286 - loss: 1.3846 - val_accuracy: 0.2725 - val_loss: 1.3057\n",
            "Epoch 3/20\n",
            "\u001b[1m38/38\u001b[0m \u001b[32m━━━━━━━━━━━━━━━━━━━━\u001b[0m\u001b[37m\u001b[0m \u001b[1m9s\u001b[0m 243ms/step - accuracy: 0.4783 - loss: 1.0876 - val_accuracy: 0.6125 - val_loss: 0.6989\n",
            "Epoch 4/20\n",
            "\u001b[1m38/38\u001b[0m \u001b[32m━━━━━━━━━━━━━━━━━━━━\u001b[0m\u001b[37m\u001b[0m \u001b[1m8s\u001b[0m 203ms/step - accuracy: 0.6986 - loss: 0.5794 - val_accuracy: 0.9175 - val_loss: 0.3028\n",
            "Epoch 5/20\n",
            "\u001b[1m38/38\u001b[0m \u001b[32m━━━━━━━━━━━━━━━━━━━━\u001b[0m\u001b[37m\u001b[0m \u001b[1m9s\u001b[0m 234ms/step - accuracy: 0.8519 - loss: 0.4501 - val_accuracy: 0.8000 - val_loss: 0.6003\n",
            "Epoch 6/20\n",
            "\u001b[1m38/38\u001b[0m \u001b[32m━━━━━━━━━━━━━━━━━━━━\u001b[0m\u001b[37m\u001b[0m \u001b[1m9s\u001b[0m 232ms/step - accuracy: 0.9464 - loss: 0.1753 - val_accuracy: 0.8925 - val_loss: 0.2577\n",
            "Epoch 7/20\n",
            "\u001b[1m38/38\u001b[0m \u001b[32m━━━━━━━━━━━━━━━━━━━━\u001b[0m\u001b[37m\u001b[0m \u001b[1m9s\u001b[0m 227ms/step - accuracy: 0.9419 - loss: 0.1743 - val_accuracy: 0.8250 - val_loss: 0.4980\n",
            "Epoch 8/20\n",
            "\u001b[1m38/38\u001b[0m \u001b[32m━━━━━━━━━━━━━━━━━━━━\u001b[0m\u001b[37m\u001b[0m \u001b[1m9s\u001b[0m 250ms/step - accuracy: 0.9672 - loss: 0.0852 - val_accuracy: 0.9600 - val_loss: 0.0964\n",
            "Epoch 9/20\n",
            "\u001b[1m38/38\u001b[0m \u001b[32m━━━━━━━━━━━━━━━━━━━━\u001b[0m\u001b[37m\u001b[0m \u001b[1m9s\u001b[0m 237ms/step - accuracy: 0.9504 - loss: 0.1482 - val_accuracy: 0.9325 - val_loss: 0.1978\n",
            "Epoch 10/20\n",
            "\u001b[1m38/38\u001b[0m \u001b[32m━━━━━━━━━━━━━━━━━━━━\u001b[0m\u001b[37m\u001b[0m \u001b[1m8s\u001b[0m 213ms/step - accuracy: 0.9505 - loss: 0.1424 - val_accuracy: 0.7850 - val_loss: 0.6584\n",
            "Epoch 11/20\n",
            "\u001b[1m38/38\u001b[0m \u001b[32m━━━━━━━━━━━━━━━━━━━━\u001b[0m\u001b[37m\u001b[0m \u001b[1m9s\u001b[0m 248ms/step - accuracy: 0.9600 - loss: 0.1321 - val_accuracy: 0.9550 - val_loss: 0.1455\n",
            "Epoch 12/20\n",
            "\u001b[1m38/38\u001b[0m \u001b[32m━━━━━━━━━━━━━━━━━━━━\u001b[0m\u001b[37m\u001b[0m \u001b[1m10s\u001b[0m 256ms/step - accuracy: 0.9596 - loss: 0.1092 - val_accuracy: 0.9500 - val_loss: 0.1495\n",
            "Epoch 13/20\n",
            "\u001b[1m38/38\u001b[0m \u001b[32m━━━━━━━━━━━━━━━━━━━━\u001b[0m\u001b[37m\u001b[0m \u001b[1m8s\u001b[0m 205ms/step - accuracy: 0.9554 - loss: 0.1176 - val_accuracy: 0.9775 - val_loss: 0.0752\n",
            "Epoch 14/20\n",
            "\u001b[1m38/38\u001b[0m \u001b[32m━━━━━━━━━━━━━━━━━━━━\u001b[0m\u001b[37m\u001b[0m \u001b[1m9s\u001b[0m 235ms/step - accuracy: 0.9710 - loss: 0.1035 - val_accuracy: 0.9300 - val_loss: 0.1853\n",
            "Epoch 15/20\n",
            "\u001b[1m38/38\u001b[0m \u001b[32m━━━━━━━━━━━━━━━━━━━━\u001b[0m\u001b[37m\u001b[0m \u001b[1m9s\u001b[0m 234ms/step - accuracy: 0.9734 - loss: 0.0692 - val_accuracy: 0.9425 - val_loss: 0.1767\n",
            "Epoch 16/20\n",
            "\u001b[1m38/38\u001b[0m \u001b[32m━━━━━━━━━━━━━━━━━━━━\u001b[0m\u001b[37m\u001b[0m \u001b[1m8s\u001b[0m 205ms/step - accuracy: 0.9672 - loss: 0.1014 - val_accuracy: 0.9250 - val_loss: 0.2138\n",
            "Epoch 17/20\n",
            "\u001b[1m38/38\u001b[0m \u001b[32m━━━━━━━━━━━━━━━━━━━━\u001b[0m\u001b[37m\u001b[0m \u001b[1m9s\u001b[0m 239ms/step - accuracy: 0.9737 - loss: 0.0746 - val_accuracy: 0.9275 - val_loss: 0.2195\n",
            "Epoch 18/20\n",
            "\u001b[1m38/38\u001b[0m \u001b[32m━━━━━━━━━━━━━━━━━━━━\u001b[0m\u001b[37m\u001b[0m \u001b[1m9s\u001b[0m 227ms/step - accuracy: 0.9776 - loss: 0.0853 - val_accuracy: 0.9100 - val_loss: 0.3327\n",
            "Epoch 19/20\n",
            "\u001b[1m38/38\u001b[0m \u001b[32m━━━━━━━━━━━━━━━━━━━━\u001b[0m\u001b[37m\u001b[0m \u001b[1m9s\u001b[0m 205ms/step - accuracy: 0.9673 - loss: 0.0747 - val_accuracy: 0.9450 - val_loss: 0.1692\n",
            "Epoch 20/20\n",
            "\u001b[1m38/38\u001b[0m \u001b[32m━━━━━━━━━━━━━━━━━━━━\u001b[0m\u001b[37m\u001b[0m \u001b[1m10s\u001b[0m 254ms/step - accuracy: 0.9479 - loss: 0.1459 - val_accuracy: 0.9350 - val_loss: 0.2003\n"
          ]
        }
      ]
    },
    {
      "cell_type": "code",
      "source": [
        "# ====== Feature Extraction ======\n",
        "feature_extractor = models.Model(\n",
        "    inputs=cbam_model.input,\n",
        "    outputs=cbam_model.get_layer(\"feat_dense\").output  # 256-d features\n",
        ")\n",
        "\n",
        "X_train = feature_extractor.predict(train_gen, verbose=1)\n",
        "X_val   = feature_extractor.predict(test_gen, verbose=1)\n",
        "\n",
        "y_train = train_gen.classes\n",
        "y_val   = test_gen.classes\n",
        "unique_classes = np.unique(y_train)"
      ],
      "metadata": {
        "colab": {
          "base_uri": "https://localhost:8080/"
        },
        "id": "mtOMDXLKT92P",
        "outputId": "4b80802d-d6a1-4c2c-fb30-faecc3001a1d"
      },
      "execution_count": 10,
      "outputs": [
        {
          "output_type": "stream",
          "name": "stdout",
          "text": [
            "\u001b[1m38/38\u001b[0m \u001b[32m━━━━━━━━━━━━━━━━━━━━\u001b[0m\u001b[37m\u001b[0m \u001b[1m10s\u001b[0m 215ms/step\n",
            "\u001b[1m13/13\u001b[0m \u001b[32m━━━━━━━━━━━━━━━━━━━━\u001b[0m\u001b[37m\u001b[0m \u001b[1m1s\u001b[0m 60ms/step\n"
          ]
        }
      ]
    },
    {
      "cell_type": "code",
      "source": [
        "# ====== Support Vector Machine (CV on Train Features) ======\n",
        "\n",
        "kf = StratifiedKFold(n_splits=3, shuffle=True, random_state=42)\n",
        "fold = 1\n",
        "acc_list, auc_list = [], []\n",
        "\n",
        "for tr_idx, te_idx in kf.split(X_train, y_train):\n",
        "    X_tr, X_te = X_train[tr_idx], X_train[te_idx]\n",
        "    y_tr, y_te = y_train[tr_idx], y_train[te_idx]\n",
        "\n",
        "    # Use Support Vector Classifier\n",
        "    svm = SVC(probability=True, random_state=42) # probability=True for AUC\n",
        "    svm.fit(X_tr, y_tr)\n",
        "\n",
        "    y_pred  = svm.predict(X_te)\n",
        "    y_proba = svm.predict_proba(X_te)\n",
        "\n",
        "    acc = accuracy_score(y_te, y_pred)\n",
        "    acc_list.append(acc)\n",
        "\n",
        "    # Multi-class ROC-AUC (One-vs-Rest)\n",
        "    y_te_bin = label_binarize(y_te, classes=unique_classes)\n",
        "    # if a fold is missing a class, skip AUC\n",
        "    if y_te_bin.shape[1] < num_classes:\n",
        "        print(f\"Fold {fold} - Accuracy: {acc:.4f}, ROC-AUC skipped (not all classes in fold)\")\n",
        "        auc_list.append(np.nan)\n",
        "    else:\n",
        "        # Align columns of y_proba to unique_classes order\n",
        "        # svm.classes_ gives column order in predict_proba\n",
        "        class_order = svm.classes_\n",
        "        reorder_idx = [np.where(class_order == c)[0][0] for c in unique_classes]\n",
        "        y_proba_ordered = y_proba[:, reorder_idx]\n",
        "\n",
        "        auc_score = roc_auc_score(y_te_bin, y_proba_ordered, multi_class='ovr')\n",
        "        auc_list.append(auc_score)\n",
        "        print(f\"Fold {fold} - Accuracy: {acc:.4f}, AUC: {auc_score:.4f}\")\n",
        "\n",
        "    fold += 1\n",
        "\n",
        "print(\"Mean CV Accuracy:\", np.nanmean(acc_list))\n",
        "print(\"Mean CV AUC:\", np.nanmean(auc_list))"
      ],
      "metadata": {
        "colab": {
          "base_uri": "https://localhost:8080/"
        },
        "id": "jfQXGb1-UBwE",
        "outputId": "29e058c2-00a2-4d24-c947-37f3728a2839"
      },
      "execution_count": 11,
      "outputs": [
        {
          "output_type": "stream",
          "name": "stdout",
          "text": [
            "Fold 1 - Accuracy: 0.2400, AUC: 0.4723\n",
            "Fold 2 - Accuracy: 0.2700, AUC: 0.4718\n",
            "Fold 3 - Accuracy: 0.2675, AUC: 0.5085\n",
            "Mean CV Accuracy: 0.2591666666666667\n",
            "Mean CV AUC: 0.4842027777777778\n"
          ]
        }
      ]
    },
    {
      "cell_type": "code",
      "metadata": {
        "colab": {
          "base_uri": "https://localhost:8080/"
        },
        "id": "KqrUUa_kVBZi",
        "outputId": "26cef018-66e7-40ce-9211-ae3c14871b5b"
      },
      "source": [
        "# ====== Train SVM on Full Train Features & Evaluate on Validation ======\n",
        "svm_final = SVC(probability=True, random_state=42) # probability=True for AUC\n",
        "svm_final.fit(X_train, y_train)\n",
        "\n",
        "y_val_pred  = svm_final.predict(X_val)\n",
        "y_val_proba = svm_final.predict_proba(X_val)\n",
        "\n",
        "print(\"\\n=== Validation Metrics ===\")\n",
        "print(\"Accuracy:\", accuracy_score(y_val, y_val_pred))\n",
        "print(\"Precision (macro):\", precision_score(y_val, y_val_pred, average='macro'))\n",
        "print(\"Recall (macro):\", recall_score(y_val, y_val_pred, average='macro'))\n",
        "print(\"F1-score (macro):\", f1_score(y_val, y_val_pred, average='macro'))\n",
        "print(\"Confusion Matrix:\\n\", confusion_matrix(y_val, y_val_pred))\n",
        "\n",
        "# Calculate and print ROC-AUC for validation set\n",
        "y_val_bin = label_binarize(y_val, classes=unique_classes)\n",
        "# Align columns of y_val_proba to unique_classes order\n",
        "class_order = svm_final.classes_\n",
        "reorder_idx = [np.where(class_order == c)[0][0] for c in unique_classes]\n",
        "y_val_proba_ordered = y_val_proba[:, reorder_idx]\n",
        "\n",
        "auc_score_val = roc_auc_score(y_val_bin, y_val_proba_ordered, multi_class='ovr')\n",
        "print(\"ROC-AUC (OvR):\", auc_score_val)"
      ],
      "execution_count": 14,
      "outputs": [
        {
          "output_type": "stream",
          "name": "stdout",
          "text": [
            "\n",
            "=== Validation Metrics ===\n",
            "Accuracy: 0.335\n",
            "Precision (macro): 0.3252216547820876\n",
            "Recall (macro): 0.33499999999999996\n",
            "F1-score (macro): 0.3297568932314473\n",
            "Confusion Matrix:\n",
            " [[ 1  0  1 98]\n",
            " [ 0 99  1  0]\n",
            " [75  2 18  5]\n",
            " [ 0  0 84 16]]\n",
            "ROC-AUC (OvR): 0.6424166666666666\n"
          ]
        }
      ]
    },
    {
      "cell_type": "code",
      "source": [
        "from sklearn.metrics import accuracy_score, precision_score, recall_score, f1_score, confusion_matrix, roc_auc_score, roc_curve, auc\n",
        "from sklearn.preprocessing import label_binarize\n",
        "import matplotlib.pyplot as plt\n",
        "import numpy as np\n",
        "\n",
        "# ====== Validation metrics ======\n",
        "y_val_pred = svm_final.predict(X_val)\n",
        "y_val_proba = svm_final.predict_proba(X_val)\n",
        "\n",
        "print(\"Accuracy:\", accuracy_score(y_val, y_val_pred))\n",
        "print(\"Precision:\", precision_score(y_val, y_val_pred, average='macro'))\n",
        "print(\"Recall:\", recall_score(y_val, y_val_pred, average='macro'))\n",
        "print(\"F1-score:\", f1_score(y_val, y_val_pred, average='macro'))\n",
        "print(\"Confusion Matrix:\\n\", confusion_matrix(y_val, y_val_pred))\n",
        "\n",
        "# ====== ROC-AUC ======\n",
        "unique_classes = np.unique(y_val)  # ensure consistent ordering\n",
        "y_val_bin = label_binarize(y_val, classes=unique_classes)\n",
        "\n",
        "if y_val_bin.shape[1] < len(unique_classes):\n",
        "    print(\"ROC-AUC skipped: not all classes present in validation set\")\n",
        "else:\n",
        "    # Reorder probability columns to match unique_classes\n",
        "    class_order = svm_final.classes_\n",
        "    reorder_idx = [np.where(class_order == c)[0][0] for c in unique_classes]\n",
        "    y_val_proba_ordered = y_val_proba[:, reorder_idx]\n",
        "\n",
        "    val_auc = roc_auc_score(y_val_bin, y_val_proba_ordered, multi_class='ovr')\n",
        "    print(\"Validation AUC (OvR):\", val_auc)\n",
        "\n",
        "    # ====== ROC Curves (per class) ======\n",
        "    # Create int -> class label mapping\n",
        "    idx_to_class = {v:k for k,v in train_gen.class_indices.items()}  # 0->'Dark', etc.\n",
        "\n",
        "    plt.figure(figsize=(8,6))\n",
        "    for i, cls in enumerate(unique_classes):\n",
        "        fpr, tpr, _ = roc_curve(y_val_bin[:, i], y_val_proba_ordered[:, i])\n",
        "        plt.plot(fpr, tpr, label=f\"{idx_to_class[cls]} (AUC = {auc(fpr, tpr):.2f})\")\n",
        "\n",
        "    plt.plot([0,1], [0,1], 'k--')\n",
        "    plt.xlabel(\"False Positive Rate\")\n",
        "    plt.ylabel(\"True Positive Rate\")\n",
        "    plt.title(\"ROC Curves (Validation Set) - SVM on CBAM-CNN Features\")\n",
        "    plt.legend()\n",
        "    plt.show()"
      ],
      "metadata": {
        "colab": {
          "base_uri": "https://localhost:8080/",
          "height": 747
        },
        "id": "ftHcgZJsVhCN",
        "outputId": "762309aa-69cc-44eb-da58-56dfd64d64f9"
      },
      "execution_count": 15,
      "outputs": [
        {
          "output_type": "stream",
          "name": "stdout",
          "text": [
            "Accuracy: 0.335\n",
            "Precision: 0.3252216547820876\n",
            "Recall: 0.33499999999999996\n",
            "F1-score: 0.3297568932314473\n",
            "Confusion Matrix:\n",
            " [[ 1  0  1 98]\n",
            " [ 0 99  1  0]\n",
            " [75  2 18  5]\n",
            " [ 0  0 84 16]]\n",
            "Validation AUC (OvR): 0.6424166666666666\n"
          ]
        },
        {
          "output_type": "display_data",
          "data": {
            "text/plain": [
              "<Figure size 800x600 with 1 Axes>"
            ],
            "image/png": "[encoded data removed]"
          },
          "metadata": {}
        }
      ]
    }
  ]
}