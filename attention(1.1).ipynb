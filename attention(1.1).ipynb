{
  "nbformat": 4,
  "nbformat_minor": 0,
  "metadata": {
    "colab": {
      "provenance": [],
      "toc_visible": true,
      "gpuType": "T4",
      "mount_file_id": "1QNhZ68HnCl9dTJU7VGrqHyQuquKK_D_K",
      "authorship_tag": "ABX9TyNcJ+epHwENQ8oqNsn4RRbM",
      "include_colab_link": true
    },
    "kernelspec": {
      "name": "python3",
      "display_name": "Python 3"
    },
    "language_info": {
      "name": "python"
    },
    "accelerator": "GPU"
  },
  "cells": [
    {
      "cell_type": "markdown",
      "metadata": {
        "id": "view-in-github",
        "colab_type": "text"
      },
      "source": [
        "<a href=\"https://colab.research.google.com/github/Tanvir220-noob/Attention/blob/main/attention(1.1).ipynb\" target=\"_parent\"><img src=\"https://colab.research.google.com/assets/colab-badge.svg\" alt=\"Open In Colab\"/></a>"
      ]
    },
    {
      "cell_type": "code",
      "execution_count": 15,
      "metadata": {
        "colab": {
          "base_uri": "https://localhost:8080/"
        },
        "id": "k98JUn1ghBGT",
        "outputId": "97fdc2bd-ea91-4426-93ed-c251a9b0136c"
      },
      "outputs": [
        {
          "output_type": "stream",
          "name": "stdout",
          "text": [
            "Downloading...\n",
            "From (original): https://drive.google.com/uc?id=1-cMO7XFGYCMgdT459ql7heQqDN7e-4oa\n",
            "From (redirected): https://drive.google.com/uc?id=1-cMO7XFGYCMgdT459ql7heQqDN7e-4oa&confirm=t&uuid=220488c5-8003-4d6e-848f-5597220d4ed4\n",
            "To: /content/archive (2).zip\n",
            "100% 151M/151M [00:01<00:00, 125MB/s]\n"
          ]
        }
      ],
      "source": [
        "!gdown 1-cMO7XFGYCMgdT459ql7heQqDN7e-4oa"
      ]
    },
    {
      "cell_type": "code",
      "source": [
        "from google.colab import drive\n",
        "drive.mount('/content/drive')"
      ],
      "metadata": {
        "colab": {
          "base_uri": "https://localhost:8080/"
        },
        "id": "vouvnp9uhGNc",
        "outputId": "072d9fc2-10c7-4dde-a09e-b596218c11bb"
      },
      "execution_count": 1,
      "outputs": [
        {
          "output_type": "stream",
          "name": "stdout",
          "text": [
            "Drive already mounted at /content/drive; to attempt to forcibly remount, call drive.mount(\"/content/drive\", force_remount=True).\n"
          ]
        }
      ]
    },
    {
      "cell_type": "code",
      "source": [
        "import zipfile, os\n",
        "\n",
        "# Example: uploaded coffee-beans.zip\n",
        "zip_path = \"/content/archive (2).zip\"\n",
        "extract_dir = \"/content/coffee-beans\"\n",
        "\n",
        "with zipfile.ZipFile(zip_path, 'r') as zip_ref:\n",
        "    zip_ref.extractall(extract_dir)\n",
        "\n",
        "# Now base_dir is:\n",
        "base_dir = extract_dir\n",
        "print(\"Base dir:\", base_dir)\n",
        "print(\"Folders:\", os.listdir(base_dir))"
      ],
      "metadata": {
        "colab": {
          "base_uri": "https://localhost:8080/"
        },
        "id": "YVMi8w8mhOiY",
        "outputId": "57526c75-17dd-47e8-af6a-e13cfa1741a8"
      },
      "execution_count": 16,
      "outputs": [
        {
          "output_type": "stream",
          "name": "stdout",
          "text": [
            "Base dir: /content/coffee-beans\n",
            "Folders: ['Coffee Bean.csv', 'train', 'test']\n"
          ]
        }
      ]
    },
    {
      "cell_type": "code",
      "source": [
        "import os\n",
        "import numpy as np\n",
        "import matplotlib.pyplot as plt\n",
        "import tensorflow as tf\n",
        "from tensorflow.keras import layers, models, Input\n",
        "from tensorflow.keras.preprocessing.image import ImageDataGenerator\n",
        "\n",
        "from sklearn.ensemble import RandomForestClassifier\n",
        "from sklearn.model_selection import StratifiedKFold\n",
        "from sklearn.preprocessing import label_binarize\n",
        "from sklearn.metrics import (accuracy_score, precision_score, recall_score,\n",
        "                             f1_score, confusion_matrix, roc_auc_score, roc_curve, auc)\n",
        "np.random.seed(42)\n",
        "tf.random.set_seed(42)"
      ],
      "metadata": {
        "id": "e3afgoc3iu8v"
      },
      "execution_count": 17,
      "outputs": []
    },
    {
      "cell_type": "code",
      "source": [
        "# ====== CBAM Block ======\n",
        "def cbam_block(feature_map, ratio=8):\n",
        "    channel = feature_map.shape[-1]\n",
        "\n",
        "    # Channel Attention\n",
        "    shared_dense_one = layers.Dense(channel // ratio, activation='relu',\n",
        "                                    kernel_initializer='he_normal', use_bias=True)\n",
        "    shared_dense_two = layers.Dense(channel, kernel_initializer='he_normal', use_bias=True)\n",
        "\n",
        "    avg_pool = layers.GlobalAveragePooling2D()(feature_map)\n",
        "    avg_pool = layers.Reshape((1,1,channel))(avg_pool)\n",
        "    avg_pool = shared_dense_one(avg_pool)\n",
        "    avg_pool = shared_dense_two(avg_pool)\n",
        "\n",
        "    max_pool = layers.GlobalMaxPooling2D()(feature_map)\n",
        "    max_pool = layers.Reshape((1,1,channel))(max_pool)\n",
        "    max_pool = shared_dense_one(max_pool)\n",
        "    max_pool = shared_dense_two(max_pool)\n",
        "\n",
        "    channel_attention = layers.Add()([avg_pool, max_pool])\n",
        "    channel_attention = layers.Activation('sigmoid')(channel_attention)\n",
        "    channel_refined = layers.Multiply()([feature_map, channel_attention])\n",
        "\n",
        "    # Spatial Attention\n",
        "    avg_pool_sp = layers.Lambda(lambda x: tf.reduce_mean(x, axis=3, keepdims=True))(channel_refined)\n",
        "    max_pool_sp = layers.Lambda(lambda x: tf.reduce_max(x, axis=3, keepdims=True))(channel_refined)\n",
        "    concat = layers.Concatenate(axis=3)([avg_pool_sp, max_pool_sp])\n",
        "    spatial_attention = layers.Conv2D(1, (7,7), padding='same', activation='sigmoid')(concat)\n",
        "\n",
        "    refined_feature = layers.Multiply()([channel_refined, spatial_attention])\n",
        "    return refined_feature"
      ],
      "metadata": {
        "id": "zIeDlVNMiu2j"
      },
      "execution_count": 18,
      "outputs": []
    },
    {
      "cell_type": "code",
      "source": [
        "# ====== CBAM-CNN Backbone ======\n",
        "def build_cbam_cnn(input_shape=(128,128,3), num_classes=4):\n",
        "    inputs = Input(shape=input_shape)\n",
        "\n",
        "    # Block 1\n",
        "    x = layers.Conv2D(32, (3,3), activation='relu', padding='same')(inputs)\n",
        "    x = layers.MaxPooling2D((2,2))(x)\n",
        "    x = cbam_block(x)\n",
        "\n",
        "    # Block 2\n",
        "    x = layers.Conv2D(64, (3,3), activation='relu', padding='same')(x)\n",
        "    x = layers.MaxPooling2D((2,2))(x)\n",
        "    x = cbam_block(x)\n",
        "\n",
        "    # Block 3\n",
        "    x = layers.Conv2D(128, (3,3), activation='relu', padding='same')(x)\n",
        "    x = layers.MaxPooling2D((2,2))(x)\n",
        "    x = cbam_block(x)\n",
        "\n",
        "    # Head\n",
        "    x = layers.GlobalAveragePooling2D(name=\"gap\")(x)\n",
        "    x = layers.Dense(256, activation='relu', name=\"feat_dense\")(x)   # <-- features we'll extract\n",
        "    x = layers.Dropout(0.5)(x)\n",
        "    outputs = layers.Dense(num_classes, activation='softmax', name=\"softmax\")(x)\n",
        "\n",
        "    model = models.Model(inputs, outputs)\n",
        "    return model"
      ],
      "metadata": {
        "id": "M7_xE7hRi3yp"
      },
      "execution_count": 19,
      "outputs": []
    },
    {
      "cell_type": "code",
      "source": [
        "import os\n",
        "from tensorflow.keras.preprocessing.image import ImageDataGenerator\n",
        "\n",
        "# Data directories\n",
        "train_dir = \"/content/coffee-beans/train\"\n",
        "test_dir = \"/content/coffee-beans/test\"\n",
        "\n",
        "# ImageDataGenerators\n",
        "train_datagen = ImageDataGenerator(\n",
        "    rescale=1./255,\n",
        "    rotation_range=30,\n",
        "    width_shift_range=0.2,\n",
        "    height_shift_range=0.2,\n",
        "    shear_range=0.2,\n",
        "    zoom_range=0.2,\n",
        "    brightness_range=[0.8, 1.2],\n",
        "    horizontal_flip=True,\n",
        "    fill_mode='nearest'\n",
        ")\n",
        "\n",
        "test_datagen = ImageDataGenerator(rescale=1./255)\n",
        "\n",
        "train_gen = train_datagen.flow_from_directory(\n",
        "    train_dir,\n",
        "    target_size=(128,128),\n",
        "    batch_size=32,\n",
        "    class_mode='categorical',\n",
        "    shuffle=True\n",
        ")\n",
        "\n",
        "test_gen = test_datagen.flow_from_directory(\n",
        "    test_dir,\n",
        "    target_size=(128,128),\n",
        "    batch_size=32,\n",
        "    class_mode='categorical',\n",
        "    shuffle=False\n",
        ")\n",
        "\n",
        "# Final sanity check\n",
        "print(\"Train classes mapping:\", train_gen.class_indices)\n",
        "print(\"Test classes mapping:\", test_gen.class_indices)"
      ],
      "metadata": {
        "colab": {
          "base_uri": "https://localhost:8080/"
        },
        "id": "zKqmybzVjFcH",
        "outputId": "8ffae37c-05ff-4a6d-e984-89f46cb91091"
      },
      "execution_count": 28,
      "outputs": [
        {
          "output_type": "stream",
          "name": "stdout",
          "text": [
            "Found 1200 images belonging to 4 classes.\n",
            "Found 400 images belonging to 4 classes.\n",
            "Train classes mapping: {'Dark': 0, 'Green': 1, 'Light': 2, 'Medium': 3}\n",
            "Test classes mapping: {'Dark': 0, 'Green': 1, 'Light': 2, 'Medium': 3}\n"
          ]
        }
      ]
    },
    {
      "cell_type": "code",
      "source": [
        "# ====== Train CBAM-CNN ======\n",
        "# ====== Train CBAM-CNN ======\n",
        "\n",
        "# get number of classes dynamically from generator\n",
        "num_classes = train_gen.num_classes\n",
        "\n",
        "cbam_model = build_cbam_cnn(input_shape=(128,128,3), num_classes=num_classes)\n",
        "\n",
        "cbam_model.compile(\n",
        "    optimizer='adam',\n",
        "    loss='categorical_crossentropy',\n",
        "    metrics=['accuracy']\n",
        ")\n",
        "\n",
        "history = cbam_model.fit(\n",
        "    train_gen,\n",
        "    validation_data=test_gen,\n",
        "    epochs=40,\n",
        "    verbose=1\n",
        ")"
      ],
      "metadata": {
        "colab": {
          "base_uri": "https://localhost:8080/"
        },
        "id": "pMUtZ8OYjM76",
        "outputId": "85cbdc09-a9cc-41e6-dbbf-3fc8cf4cbc31"
      },
      "execution_count": 30,
      "outputs": [
        {
          "output_type": "stream",
          "name": "stdout",
          "text": [
            "Epoch 1/40\n",
            "\u001b[1m38/38\u001b[0m \u001b[32m━━━━━━━━━━━━━━━━━━━━\u001b[0m\u001b[37m\u001b[0m \u001b[1m27s\u001b[0m 464ms/step - accuracy: 0.2540 - loss: 1.3871 - val_accuracy: 0.2500 - val_loss: 1.3855\n",
            "Epoch 2/40\n",
            "\u001b[1m38/38\u001b[0m \u001b[32m━━━━━━━━━━━━━━━━━━━━\u001b[0m\u001b[37m\u001b[0m \u001b[1m11s\u001b[0m 293ms/step - accuracy: 0.2718 - loss: 1.3834 - val_accuracy: 0.2500 - val_loss: 1.3163\n",
            "Epoch 3/40\n",
            "\u001b[1m38/38\u001b[0m \u001b[32m━━━━━━━━━━━━━━━━━━━━\u001b[0m\u001b[37m\u001b[0m \u001b[1m9s\u001b[0m 233ms/step - accuracy: 0.3870 - loss: 1.1494 - val_accuracy: 0.5725 - val_loss: 0.8147\n",
            "Epoch 4/40\n",
            "\u001b[1m38/38\u001b[0m \u001b[32m━━━━━━━━━━━━━━━━━━━━\u001b[0m\u001b[37m\u001b[0m \u001b[1m10s\u001b[0m 221ms/step - accuracy: 0.6640 - loss: 0.6942 - val_accuracy: 0.7275 - val_loss: 0.6119\n",
            "Epoch 5/40\n",
            "\u001b[1m38/38\u001b[0m \u001b[32m━━━━━━━━━━━━━━━━━━━━\u001b[0m\u001b[37m\u001b[0m \u001b[1m10s\u001b[0m 258ms/step - accuracy: 0.7263 - loss: 0.5827 - val_accuracy: 0.6900 - val_loss: 0.6356\n",
            "Epoch 6/40\n",
            "\u001b[1m38/38\u001b[0m \u001b[32m━━━━━━━━━━━━━━━━━━━━\u001b[0m\u001b[37m\u001b[0m \u001b[1m9s\u001b[0m 250ms/step - accuracy: 0.7454 - loss: 0.5629 - val_accuracy: 0.5550 - val_loss: 0.8977\n",
            "Epoch 7/40\n",
            "\u001b[1m38/38\u001b[0m \u001b[32m━━━━━━━━━━━━━━━━━━━━\u001b[0m\u001b[37m\u001b[0m \u001b[1m9s\u001b[0m 234ms/step - accuracy: 0.7554 - loss: 0.5102 - val_accuracy: 0.5675 - val_loss: 0.9839\n",
            "Epoch 8/40\n",
            "\u001b[1m38/38\u001b[0m \u001b[32m━━━━━━━━━━━━━━━━━━━━\u001b[0m\u001b[37m\u001b[0m \u001b[1m10s\u001b[0m 227ms/step - accuracy: 0.7566 - loss: 0.4749 - val_accuracy: 0.7000 - val_loss: 0.6203\n",
            "Epoch 9/40\n",
            "\u001b[1m38/38\u001b[0m \u001b[32m━━━━━━━━━━━━━━━━━━━━\u001b[0m\u001b[37m\u001b[0m \u001b[1m10s\u001b[0m 255ms/step - accuracy: 0.7978 - loss: 0.4573 - val_accuracy: 0.6775 - val_loss: 0.7064\n",
            "Epoch 10/40\n",
            "\u001b[1m38/38\u001b[0m \u001b[32m━━━━━━━━━━━━━━━━━━━━\u001b[0m\u001b[37m\u001b[0m \u001b[1m10s\u001b[0m 253ms/step - accuracy: 0.8198 - loss: 0.4183 - val_accuracy: 0.5200 - val_loss: 1.4631\n",
            "Epoch 11/40\n",
            "\u001b[1m38/38\u001b[0m \u001b[32m━━━━━━━━━━━━━━━━━━━━\u001b[0m\u001b[37m\u001b[0m \u001b[1m9s\u001b[0m 229ms/step - accuracy: 0.8195 - loss: 0.4336 - val_accuracy: 0.6325 - val_loss: 0.7674\n",
            "Epoch 12/40\n",
            "\u001b[1m38/38\u001b[0m \u001b[32m━━━━━━━━━━━━━━━━━━━━\u001b[0m\u001b[37m\u001b[0m \u001b[1m10s\u001b[0m 268ms/step - accuracy: 0.8752 - loss: 0.3368 - val_accuracy: 0.8325 - val_loss: 0.4550\n",
            "Epoch 13/40\n",
            "\u001b[1m38/38\u001b[0m \u001b[32m━━━━━━━━━━━━━━━━━━━━\u001b[0m\u001b[37m\u001b[0m \u001b[1m10s\u001b[0m 252ms/step - accuracy: 0.9415 - loss: 0.1691 - val_accuracy: 0.8600 - val_loss: 0.4253\n",
            "Epoch 14/40\n",
            "\u001b[1m38/38\u001b[0m \u001b[32m━━━━━━━━━━━━━━━━━━━━\u001b[0m\u001b[37m\u001b[0m \u001b[1m8s\u001b[0m 218ms/step - accuracy: 0.9634 - loss: 0.1151 - val_accuracy: 0.9700 - val_loss: 0.0951\n",
            "Epoch 15/40\n",
            "\u001b[1m38/38\u001b[0m \u001b[32m━━━━━━━━━━━━━━━━━━━━\u001b[0m\u001b[37m\u001b[0m \u001b[1m10s\u001b[0m 252ms/step - accuracy: 0.9496 - loss: 0.1352 - val_accuracy: 0.9650 - val_loss: 0.0981\n",
            "Epoch 16/40\n",
            "\u001b[1m38/38\u001b[0m \u001b[32m━━━━━━━━━━━━━━━━━━━━\u001b[0m\u001b[37m\u001b[0m \u001b[1m9s\u001b[0m 250ms/step - accuracy: 0.9708 - loss: 0.0729 - val_accuracy: 0.9425 - val_loss: 0.1709\n",
            "Epoch 17/40\n",
            "\u001b[1m38/38\u001b[0m \u001b[32m━━━━━━━━━━━━━━━━━━━━\u001b[0m\u001b[37m\u001b[0m \u001b[1m9s\u001b[0m 226ms/step - accuracy: 0.9809 - loss: 0.0567 - val_accuracy: 0.8750 - val_loss: 0.3820\n",
            "Epoch 18/40\n",
            "\u001b[1m38/38\u001b[0m \u001b[32m━━━━━━━━━━━━━━━━━━━━\u001b[0m\u001b[37m\u001b[0m \u001b[1m10s\u001b[0m 212ms/step - accuracy: 0.9755 - loss: 0.0640 - val_accuracy: 0.9525 - val_loss: 0.1387\n",
            "Epoch 19/40\n",
            "\u001b[1m38/38\u001b[0m \u001b[32m━━━━━━━━━━━━━━━━━━━━\u001b[0m\u001b[37m\u001b[0m \u001b[1m11s\u001b[0m 238ms/step - accuracy: 0.9744 - loss: 0.0750 - val_accuracy: 0.9550 - val_loss: 0.1287\n",
            "Epoch 20/40\n",
            "\u001b[1m38/38\u001b[0m \u001b[32m━━━━━━━━━━━━━━━━━━━━\u001b[0m\u001b[37m\u001b[0m \u001b[1m9s\u001b[0m 249ms/step - accuracy: 0.9792 - loss: 0.0747 - val_accuracy: 0.9350 - val_loss: 0.2193\n",
            "Epoch 21/40\n",
            "\u001b[1m38/38\u001b[0m \u001b[32m━━━━━━━━━━━━━━━━━━━━\u001b[0m\u001b[37m\u001b[0m \u001b[1m8s\u001b[0m 218ms/step - accuracy: 0.9663 - loss: 0.0816 - val_accuracy: 0.9650 - val_loss: 0.0983\n",
            "Epoch 22/40\n",
            "\u001b[1m38/38\u001b[0m \u001b[32m━━━━━━━━━━━━━━━━━━━━\u001b[0m\u001b[37m\u001b[0m \u001b[1m9s\u001b[0m 235ms/step - accuracy: 0.9788 - loss: 0.0745 - val_accuracy: 0.9325 - val_loss: 0.1838\n",
            "Epoch 23/40\n",
            "\u001b[1m38/38\u001b[0m \u001b[32m━━━━━━━━━━━━━━━━━━━━\u001b[0m\u001b[37m\u001b[0m \u001b[1m10s\u001b[0m 261ms/step - accuracy: 0.9873 - loss: 0.0477 - val_accuracy: 0.9550 - val_loss: 0.1094\n",
            "Epoch 24/40\n",
            "\u001b[1m38/38\u001b[0m \u001b[32m━━━━━━━━━━━━━━━━━━━━\u001b[0m\u001b[37m\u001b[0m \u001b[1m9s\u001b[0m 226ms/step - accuracy: 0.9774 - loss: 0.0642 - val_accuracy: 0.9900 - val_loss: 0.0377\n",
            "Epoch 25/40\n",
            "\u001b[1m38/38\u001b[0m \u001b[32m━━━━━━━━━━━━━━━━━━━━\u001b[0m\u001b[37m\u001b[0m \u001b[1m9s\u001b[0m 224ms/step - accuracy: 0.9630 - loss: 0.0900 - val_accuracy: 0.9700 - val_loss: 0.0841\n",
            "Epoch 26/40\n",
            "\u001b[1m38/38\u001b[0m \u001b[32m━━━━━━━━━━━━━━━━━━━━\u001b[0m\u001b[37m\u001b[0m \u001b[1m9s\u001b[0m 250ms/step - accuracy: 0.9804 - loss: 0.0564 - val_accuracy: 0.9750 - val_loss: 0.0856\n",
            "Epoch 27/40\n",
            "\u001b[1m38/38\u001b[0m \u001b[32m━━━━━━━━━━━━━━━━━━━━\u001b[0m\u001b[37m\u001b[0m \u001b[1m9s\u001b[0m 230ms/step - accuracy: 0.9735 - loss: 0.0821 - val_accuracy: 0.9475 - val_loss: 0.1240\n",
            "Epoch 28/40\n",
            "\u001b[1m38/38\u001b[0m \u001b[32m━━━━━━━━━━━━━━━━━━━━\u001b[0m\u001b[37m\u001b[0m \u001b[1m9s\u001b[0m 221ms/step - accuracy: 0.9843 - loss: 0.0514 - val_accuracy: 0.9825 - val_loss: 0.0631\n",
            "Epoch 29/40\n",
            "\u001b[1m38/38\u001b[0m \u001b[32m━━━━━━━━━━━━━━━━━━━━\u001b[0m\u001b[37m\u001b[0m \u001b[1m9s\u001b[0m 243ms/step - accuracy: 0.9873 - loss: 0.0523 - val_accuracy: 0.9250 - val_loss: 0.2607\n",
            "Epoch 30/40\n",
            "\u001b[1m38/38\u001b[0m \u001b[32m━━━━━━━━━━━━━━━━━━━━\u001b[0m\u001b[37m\u001b[0m \u001b[1m9s\u001b[0m 223ms/step - accuracy: 0.9876 - loss: 0.0424 - val_accuracy: 0.9900 - val_loss: 0.0337\n",
            "Epoch 31/40\n",
            "\u001b[1m38/38\u001b[0m \u001b[32m━━━━━━━━━━━━━━━━━━━━\u001b[0m\u001b[37m\u001b[0m \u001b[1m9s\u001b[0m 226ms/step - accuracy: 0.9846 - loss: 0.0437 - val_accuracy: 0.9800 - val_loss: 0.0667\n",
            "Epoch 32/40\n",
            "\u001b[1m38/38\u001b[0m \u001b[32m━━━━━━━━━━━━━━━━━━━━\u001b[0m\u001b[37m\u001b[0m \u001b[1m9s\u001b[0m 243ms/step - accuracy: 0.9802 - loss: 0.0531 - val_accuracy: 0.9650 - val_loss: 0.1034\n",
            "Epoch 33/40\n",
            "\u001b[1m38/38\u001b[0m \u001b[32m━━━━━━━━━━━━━━━━━━━━\u001b[0m\u001b[37m\u001b[0m \u001b[1m9s\u001b[0m 228ms/step - accuracy: 0.9825 - loss: 0.0508 - val_accuracy: 0.8650 - val_loss: 0.3894\n",
            "Epoch 34/40\n",
            "\u001b[1m38/38\u001b[0m \u001b[32m━━━━━━━━━━━━━━━━━━━━\u001b[0m\u001b[37m\u001b[0m \u001b[1m10s\u001b[0m 254ms/step - accuracy: 0.9780 - loss: 0.0627 - val_accuracy: 0.9950 - val_loss: 0.0277\n",
            "Epoch 35/40\n",
            "\u001b[1m38/38\u001b[0m \u001b[32m━━━━━━━━━━━━━━━━━━━━\u001b[0m\u001b[37m\u001b[0m \u001b[1m9s\u001b[0m 244ms/step - accuracy: 0.9818 - loss: 0.0605 - val_accuracy: 0.9350 - val_loss: 0.1703\n",
            "Epoch 36/40\n",
            "\u001b[1m38/38\u001b[0m \u001b[32m━━━━━━━━━━━━━━━━━━━━\u001b[0m\u001b[37m\u001b[0m \u001b[1m9s\u001b[0m 241ms/step - accuracy: 0.9809 - loss: 0.0508 - val_accuracy: 0.9050 - val_loss: 0.3318\n",
            "Epoch 37/40\n",
            "\u001b[1m38/38\u001b[0m \u001b[32m━━━━━━━━━━━━━━━━━━━━\u001b[0m\u001b[37m\u001b[0m \u001b[1m12s\u001b[0m 277ms/step - accuracy: 0.9858 - loss: 0.0328 - val_accuracy: 0.9825 - val_loss: 0.0450\n",
            "Epoch 38/40\n",
            "\u001b[1m38/38\u001b[0m \u001b[32m━━━━━━━━━━━━━━━━━━━━\u001b[0m\u001b[37m\u001b[0m \u001b[1m10s\u001b[0m 251ms/step - accuracy: 0.9868 - loss: 0.0355 - val_accuracy: 0.9650 - val_loss: 0.0702\n",
            "Epoch 39/40\n",
            "\u001b[1m38/38\u001b[0m \u001b[32m━━━━━━━━━━━━━━━━━━━━\u001b[0m\u001b[37m\u001b[0m \u001b[1m9s\u001b[0m 246ms/step - accuracy: 0.9858 - loss: 0.0367 - val_accuracy: 0.9450 - val_loss: 0.1456\n",
            "Epoch 40/40\n",
            "\u001b[1m38/38\u001b[0m \u001b[32m━━━━━━━━━━━━━━━━━━━━\u001b[0m\u001b[37m\u001b[0m \u001b[1m8s\u001b[0m 214ms/step - accuracy: 0.9918 - loss: 0.0202 - val_accuracy: 0.9850 - val_loss: 0.0408\n"
          ]
        }
      ]
    },
    {
      "cell_type": "code",
      "source": [
        "# ====== Feature Extraction ======\n",
        "feature_extractor = models.Model(\n",
        "    inputs=cbam_model.input,\n",
        "    outputs=cbam_model.get_layer(\"feat_dense\").output  # 256-d features\n",
        ")\n",
        "\n",
        "X_train = feature_extractor.predict(train_gen, verbose=1)\n",
        "X_val   = feature_extractor.predict(val_gen, verbose=1)\n",
        "\n",
        "y_train = train_gen.classes\n",
        "y_val   = val_gen.classes\n",
        "unique_classes = np.unique(y_train)\n"
      ],
      "metadata": {
        "colab": {
          "base_uri": "https://localhost:8080/"
        },
        "id": "E2033MbejUaV",
        "outputId": "b6f96637-7f76-4088-ff0f-5978a496b2bd"
      },
      "execution_count": 31,
      "outputs": [
        {
          "output_type": "stream",
          "name": "stdout",
          "text": [
            "\u001b[1m38/38\u001b[0m \u001b[32m━━━━━━━━━━━━━━━━━━━━\u001b[0m\u001b[37m\u001b[0m \u001b[1m10s\u001b[0m 213ms/step\n",
            "\u001b[1m8/8\u001b[0m \u001b[32m━━━━━━━━━━━━━━━━━━━━\u001b[0m\u001b[37m\u001b[0m \u001b[1m1s\u001b[0m 83ms/step\n"
          ]
        }
      ]
    },
    {
      "cell_type": "code",
      "source": [
        "# ====== Random Forest (CV on Train Features) ======\n",
        "kf = StratifiedKFold(n_splits=3, shuffle=True, random_state=42)\n",
        "fold = 1\n",
        "acc_list, auc_list = [], []\n",
        "\n",
        "for tr_idx, te_idx in kf.split(X_train, y_train):\n",
        "    X_tr, X_te = X_train[tr_idx], X_train[te_idx]\n",
        "    y_tr, y_te = y_train[tr_idx], y_train[te_idx]\n",
        "\n",
        "    rf = RandomForestClassifier(\n",
        "        n_estimators=500,\n",
        "        max_depth=None,\n",
        "        min_samples_split=2,\n",
        "        min_samples_leaf=1,\n",
        "        n_jobs=-1,\n",
        "        random_state=42\n",
        "    )\n",
        "    rf.fit(X_tr, y_tr)\n",
        "\n",
        "    y_pred  = rf.predict(X_te)\n",
        "    y_proba = rf.predict_proba(X_te)\n",
        "\n",
        "    acc = accuracy_score(y_te, y_pred)\n",
        "    acc_list.append(acc)\n",
        "\n",
        "    # Multi-class ROC-AUC (One-vs-Rest)\n",
        "    y_te_bin = label_binarize(y_te, classes=unique_classes)\n",
        "    # if a fold is missing a class, skip AUC\n",
        "    if y_te_bin.shape[1] < num_classes:\n",
        "        print(f\"Fold {fold} - Accuracy: {acc:.4f}, ROC-AUC skipped (not all classes in fold)\")\n",
        "        auc_list.append(np.nan)\n",
        "    else:\n",
        "        # Align columns of y_proba to unique_classes order\n",
        "        # rf.classes_ gives column order in predict_proba\n",
        "        class_order = rf.classes_\n",
        "        reorder_idx = [np.where(class_order == c)[0][0] for c in unique_classes]\n",
        "        y_proba_ordered = y_proba[:, reorder_idx]\n",
        "\n",
        "        auc_score = roc_auc_score(y_te_bin, y_proba_ordered, multi_class='ovr')\n",
        "        auc_list.append(auc_score)\n",
        "        print(f\"Fold {fold} - Accuracy: {acc:.4f}, AUC: {auc_score:.4f}\")\n",
        "\n",
        "    fold += 1\n",
        "    print(\"Mean CV Accuracy:\", np.nanmean(acc_list))\n",
        "print(\"Mean CV AUC:\", np.nanmean(auc_list))"
      ],
      "metadata": {
        "colab": {
          "base_uri": "https://localhost:8080/"
        },
        "id": "nE9o7Q6-jXaF",
        "outputId": "235d04b9-5c26-49c0-bb5d-a68124017139"
      },
      "execution_count": 32,
      "outputs": [
        {
          "output_type": "stream",
          "name": "stdout",
          "text": [
            "Fold 1 - Accuracy: 0.2600, AUC: 0.5261\n",
            "Mean CV Accuracy: 0.26\n",
            "Fold 2 - Accuracy: 0.2500, AUC: 0.4624\n",
            "Mean CV Accuracy: 0.255\n",
            "Fold 3 - Accuracy: 0.2525, AUC: 0.4914\n",
            "Mean CV Accuracy: 0.25416666666666665\n",
            "Mean CV AUC: 0.49328194444444445\n"
          ]
        }
      ]
    },
    {
      "cell_type": "code",
      "source": [
        "# ====== Train RF on Full Train Features & Evaluate on Validation ======\n",
        "rf_final = RandomForestClassifier(\n",
        "    n_estimators=500,\n",
        "    max_depth=None,\n",
        "    min_samples_split=2,\n",
        "    min_samples_leaf=1,\n",
        "    n_jobs=-1,\n",
        "    random_state=42\n",
        ")\n",
        "rf_final.fit(X_train, y_train)\n",
        "\n",
        "y_val_pred  = rf_final.predict(X_val)\n",
        "y_val_proba = rf_final.predict_proba(X_val)\n",
        "\n",
        "print(\"\\n=== Validation Metrics ===\")\n",
        "print(\"Accuracy:\", accuracy_score(y_val, y_val_pred))\n",
        "print(\"Precision (macro):\", precision_score(y_val, y_val_pred, average='macro'))\n",
        "print(\"Recall (macro):\", recall_score(y_val, y_val_pred, average='macro'))\n",
        "print(\"F1-score (macro):\", f1_score(y_val, y_val_pred, average='macro'))\n",
        "print(\"Confusion Matrix:\\n\", confusion_matrix(y_val, y_val_pred))"
      ],
      "metadata": {
        "colab": {
          "base_uri": "https://localhost:8080/"
        },
        "id": "b5XlNGapjhz5",
        "outputId": "f678e540-8e05-4065-b2da-78c95a157ed0"
      },
      "execution_count": 33,
      "outputs": [
        {
          "output_type": "stream",
          "name": "stdout",
          "text": [
            "\n",
            "=== Validation Metrics ===\n",
            "Accuracy: 0.39166666666666666\n",
            "Precision (macro): 0.39515425070483623\n",
            "Recall (macro): 0.39166666666666666\n",
            "F1-score (macro): 0.3848531093853471\n",
            "Confusion Matrix:\n",
            " [[36 13  4  7]\n",
            " [20 20  6 14]\n",
            " [ 8 20 19 13]\n",
            " [23  7 11 19]]\n"
          ]
        }
      ]
    },
    {
      "cell_type": "code",
      "source": [
        "from sklearn.metrics import accuracy_score, precision_score, recall_score, f1_score, confusion_matrix, roc_auc_score, roc_curve, auc\n",
        "from sklearn.preprocessing import label_binarize\n",
        "import matplotlib.pyplot as plt\n",
        "import numpy as np\n",
        "\n",
        "# ====== Validation metrics ======\n",
        "y_val_pred = rf_final.predict(X_val)\n",
        "y_val_proba = rf_final.predict_proba(X_val)\n",
        "\n",
        "print(\"Accuracy:\", accuracy_score(y_val, y_val_pred))\n",
        "print(\"Precision:\", precision_score(y_val, y_val_pred, average='macro'))\n",
        "print(\"Recall:\", recall_score(y_val, y_val_pred, average='macro'))\n",
        "print(\"F1-score:\", f1_score(y_val, y_val_pred, average='macro'))\n",
        "print(\"Confusion Matrix:\\n\", confusion_matrix(y_val, y_val_pred))\n",
        "\n",
        "# ====== ROC-AUC ======\n",
        "unique_classes = np.unique(y_val)  # ensure consistent ordering\n",
        "y_val_bin = label_binarize(y_val, classes=unique_classes)\n",
        "\n",
        "if y_val_bin.shape[1] < len(unique_classes):\n",
        "    print(\"ROC-AUC skipped: not all classes present in validation set\")\n",
        "else:\n",
        "    # Reorder probability columns to match unique_classes\n",
        "    class_order = rf_final.classes_\n",
        "    reorder_idx = [np.where(class_order == c)[0][0] for c in unique_classes]\n",
        "    y_val_proba_ordered = y_val_proba[:, reorder_idx]\n",
        "\n",
        "    val_auc = roc_auc_score(y_val_bin, y_val_proba_ordered, multi_class='ovr')\n",
        "    print(\"Validation AUC (OvR):\", val_auc)\n",
        "\n",
        "    # ====== ROC Curves (per class) ======\n",
        "    # Create int -> class label mapping\n",
        "    idx_to_class = {v:k for k,v in train_gen.class_indices.items()}  # 0->'Dark', etc.\n",
        "\n",
        "    plt.figure(figsize=(8,6))\n",
        "    for i, cls in enumerate(unique_classes):\n",
        "        fpr, tpr, _ = roc_curve(y_val_bin[:, i], y_val_proba_ordered[:, i])\n",
        "        plt.plot(fpr, tpr, label=f\"{idx_to_class[cls]} (AUC = {auc(fpr, tpr):.2f})\")\n",
        "\n",
        "    plt.plot([0,1], [0,1], 'k--')\n",
        "    plt.xlabel(\"False Positive Rate\")\n",
        "    plt.ylabel(\"True Positive Rate\")\n",
        "    plt.title(\"ROC Curves (Validation Set) - Random Forest on CBAM-CNN Features\")\n",
        "    plt.legend()\n",
        "    plt.show()"
      ],
      "metadata": {
        "colab": {
          "base_uri": "https://localhost:8080/",
          "height": 747
        },
        "id": "wn8bYDmWjlkE",
        "outputId": "2cf78f30-4c09-4771-a166-c8c5ed20bb26"
      },
      "execution_count": 34,
      "outputs": [
        {
          "output_type": "stream",
          "name": "stdout",
          "text": [
            "Accuracy: 0.39166666666666666\n",
            "Precision: 0.39515425070483623\n",
            "Recall: 0.39166666666666666\n",
            "F1-score: 0.3848531093853471\n",
            "Confusion Matrix:\n",
            " [[36 13  4  7]\n",
            " [20 20  6 14]\n",
            " [ 8 20 19 13]\n",
            " [23  7 11 19]]\n",
            "Validation AUC (OvR): 0.6713310185185186\n"
          ]
        },
        {
          "output_type": "display_data",
          "data": {
            "text/plain": [
              "<Figure size 800x600 with 1 Axes>"
            ],
            "image/png": "[encoded data removed]"
          },
          "metadata": {}
        }
      ]
    }
  ]
}