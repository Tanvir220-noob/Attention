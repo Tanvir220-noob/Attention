{
  "nbformat": 4,
  "nbformat_minor": 0,
  "metadata": {
    "colab": {
      "provenance": [],
      "toc_visible": true,
      "gpuType": "T4",
      "mount_file_id": "1QNhZ68HnCl9dTJU7VGrqHyQuquKK_D_K",
      "authorship_tag": "ABX9TyNiK6HZWaXUv2bIsy/twG8M",
      "include_colab_link": true
    },
    "kernelspec": {
      "name": "python3",
      "display_name": "Python 3"
    },
    "language_info": {
      "name": "python"
    },
    "accelerator": "GPU"
  },
  "cells": [
    {
      "cell_type": "markdown",
      "metadata": {
        "id": "view-in-github",
        "colab_type": "text"
      },
      "source": [
        "<a href=\"https://colab.research.google.com/github/Tanvir220-noob/Attention/blob/main/%20CBAM%20%E2%86%92%20Random%20Forest.ipynb\" target=\"_parent\"><img src=\"https://colab.research.google.com/assets/colab-badge.svg\" alt=\"Open In Colab\"/></a>"
      ]
    },
    {
      "cell_type": "code",
      "source": [
        "import os\n",
        "import numpy as np\n",
        "import matplotlib.pyplot as plt\n",
        "import tensorflow as tf\n",
        "from tensorflow.keras import layers, models, Input\n",
        "from tensorflow.keras.preprocessing.image import ImageDataGenerator\n",
        "\n",
        "from sklearn.ensemble import RandomForestClassifier\n",
        "from sklearn.model_selection import StratifiedKFold\n",
        "from sklearn.preprocessing import label_binarize\n",
        "from sklearn.metrics import (accuracy_score, precision_score, recall_score,\n",
        "                             f1_score, confusion_matrix, roc_auc_score, roc_curve, auc)\n",
        "np.random.seed(42)\n",
        "tf.random.set_seed(42)\n",
        "from tensorflow.keras.preprocessing.image import ImageDataGenerator"
      ],
      "metadata": {
        "id": "e3afgoc3iu8v"
      },
      "execution_count": 2,
      "outputs": []
    },
    {
      "cell_type": "code",
      "execution_count": 3,
      "metadata": {
        "colab": {
          "base_uri": "https://localhost:8080/"
        },
        "id": "k98JUn1ghBGT",
        "outputId": "e589a915-faed-4b71-acf6-af6671e99c13"
      },
      "outputs": [
        {
          "output_type": "stream",
          "name": "stdout",
          "text": [
            "Downloading...\n",
            "From (original): https://drive.google.com/uc?id=1-cMO7XFGYCMgdT459ql7heQqDN7e-4oa\n",
            "From (redirected): https://drive.google.com/uc?id=1-cMO7XFGYCMgdT459ql7heQqDN7e-4oa&confirm=t&uuid=af0295a8-55e6-4518-91a4-6d163dbdf0fa\n",
            "To: /content/archive (2).zip\n",
            "100% 151M/151M [00:02<00:00, 55.5MB/s]\n"
          ]
        }
      ],
      "source": [
        "!gdown 1-cMO7XFGYCMgdT459ql7heQqDN7e-4oa"
      ]
    },
    {
      "cell_type": "code",
      "source": [
        "from google.colab import drive\n",
        "drive.mount('/content/drive')"
      ],
      "metadata": {
        "colab": {
          "base_uri": "https://localhost:8080/"
        },
        "id": "vouvnp9uhGNc",
        "outputId": "1e286f73-e2c1-49e8-a4c6-770313c31531"
      },
      "execution_count": 4,
      "outputs": [
        {
          "output_type": "stream",
          "name": "stdout",
          "text": [
            "Drive already mounted at /content/drive; to attempt to forcibly remount, call drive.mount(\"/content/drive\", force_remount=True).\n"
          ]
        }
      ]
    },
    {
      "cell_type": "code",
      "source": [
        "import zipfile, os\n",
        "\n",
        "# Example: uploaded coffee-beans.zip\n",
        "zip_path = \"/content/archive (2).zip\"\n",
        "extract_dir = \"/content/coffee-beans\"\n",
        "\n",
        "with zipfile.ZipFile(zip_path, 'r') as zip_ref:\n",
        "    zip_ref.extractall(extract_dir)\n",
        "\n",
        "# Now base_dir is:\n",
        "base_dir = extract_dir\n",
        "print(\"Base dir:\", base_dir)\n",
        "print(\"Folders:\", os.listdir(base_dir))"
      ],
      "metadata": {
        "colab": {
          "base_uri": "https://localhost:8080/"
        },
        "id": "YVMi8w8mhOiY",
        "outputId": "80067ab6-65e9-4c16-fd90-3a21b75a7fe3"
      },
      "execution_count": 5,
      "outputs": [
        {
          "output_type": "stream",
          "name": "stdout",
          "text": [
            "Base dir: /content/coffee-beans\n",
            "Folders: ['Coffee Bean.csv', 'train', 'test']\n"
          ]
        }
      ]
    },
    {
      "cell_type": "code",
      "source": [
        "# ====== CBAM Block ======\n",
        "def cbam_block(feature_map, ratio=8):\n",
        "    channel = feature_map.shape[-1]\n",
        "\n",
        "    # Channel Attention\n",
        "    shared_dense_one = layers.Dense(channel // ratio, activation='relu',\n",
        "                                    kernel_initializer='he_normal', use_bias=True)\n",
        "    shared_dense_two = layers.Dense(channel, kernel_initializer='he_normal', use_bias=True)\n",
        "\n",
        "    avg_pool = layers.GlobalAveragePooling2D()(feature_map)\n",
        "    avg_pool = layers.Reshape((1,1,channel))(avg_pool)\n",
        "    avg_pool = shared_dense_one(avg_pool)\n",
        "    avg_pool = shared_dense_two(avg_pool)\n",
        "\n",
        "    max_pool = layers.GlobalMaxPooling2D()(feature_map)\n",
        "    max_pool = layers.Reshape((1,1,channel))(max_pool)\n",
        "    max_pool = shared_dense_one(max_pool)\n",
        "    max_pool = shared_dense_two(max_pool)\n",
        "\n",
        "    channel_attention = layers.Add()([avg_pool, max_pool])\n",
        "    channel_attention = layers.Activation('sigmoid')(channel_attention)\n",
        "    channel_refined = layers.Multiply()([feature_map, channel_attention])\n",
        "\n",
        "    # Spatial Attention\n",
        "    avg_pool_sp = layers.Lambda(lambda x: tf.reduce_mean(x, axis=3, keepdims=True))(channel_refined)\n",
        "    max_pool_sp = layers.Lambda(lambda x: tf.reduce_max(x, axis=3, keepdims=True))(channel_refined)\n",
        "    concat = layers.Concatenate(axis=3)([avg_pool_sp, max_pool_sp])\n",
        "    spatial_attention = layers.Conv2D(1, (7,7), padding='same', activation='sigmoid')(concat)\n",
        "\n",
        "    refined_feature = layers.Multiply()([channel_refined, spatial_attention])\n",
        "    return refined_feature"
      ],
      "metadata": {
        "id": "zIeDlVNMiu2j"
      },
      "execution_count": 6,
      "outputs": []
    },
    {
      "cell_type": "code",
      "source": [
        "# ====== CBAM-CNN Backbone ======\n",
        "def build_cbam_cnn(input_shape=(128,128,3), num_classes=4):\n",
        "    inputs = Input(shape=input_shape)\n",
        "\n",
        "    # Block 1\n",
        "    x = layers.Conv2D(32, (3,3), activation='relu', padding='same')(inputs)\n",
        "    x = layers.MaxPooling2D((2,2))(x)\n",
        "    x = cbam_block(x)\n",
        "\n",
        "    # Block 2\n",
        "    x = layers.Conv2D(64, (3,3), activation='relu', padding='same')(x)\n",
        "    x = layers.MaxPooling2D((2,2))(x)\n",
        "    x = cbam_block(x)\n",
        "\n",
        "    # Block 3\n",
        "    x = layers.Conv2D(128, (3,3), activation='relu', padding='same')(x)\n",
        "    x = layers.MaxPooling2D((2,2))(x)\n",
        "    x = cbam_block(x)\n",
        "\n",
        "    # Head\n",
        "    x = layers.GlobalAveragePooling2D(name=\"gap\")(x)\n",
        "    x = layers.Dense(256, activation='relu', name=\"feat_dense\")(x)   # <-- features we'll extract\n",
        "    x = layers.Dropout(0.5)(x)\n",
        "    outputs = layers.Dense(num_classes, activation='softmax', name=\"softmax\")(x)\n",
        "\n",
        "    model = models.Model(inputs, outputs)\n",
        "    return model"
      ],
      "metadata": {
        "id": "M7_xE7hRi3yp"
      },
      "execution_count": 7,
      "outputs": []
    },
    {
      "cell_type": "code",
      "source": [
        "# Data directories\n",
        "train_dir = \"/content/coffee-beans/train\"\n",
        "test_dir = \"/content/coffee-beans/test\"\n",
        "\n",
        "# ImageDataGenerators\n",
        "train_datagen = ImageDataGenerator(\n",
        "    rescale=1./255,\n",
        "    rotation_range=30,\n",
        "    width_shift_range=0.2,\n",
        "    height_shift_range=0.2,\n",
        "    shear_range=0.2,\n",
        "    zoom_range=0.2,\n",
        "    brightness_range=[0.8, 1.2],\n",
        "    horizontal_flip=True,\n",
        "    fill_mode='nearest'\n",
        ")\n",
        "\n",
        "test_datagen = ImageDataGenerator(rescale=1./255)\n",
        "\n",
        "train_gen = train_datagen.flow_from_directory(\n",
        "    train_dir,\n",
        "    target_size=(128,128),\n",
        "    batch_size=32,\n",
        "    class_mode='categorical',\n",
        "    shuffle=True\n",
        ")\n",
        "\n",
        "test_gen = test_datagen.flow_from_directory(\n",
        "    test_dir,\n",
        "    target_size=(128,128),\n",
        "    batch_size=32,\n",
        "    class_mode='categorical',\n",
        "    shuffle=False\n",
        ")\n",
        "\n",
        "# Final sanity check\n",
        "print(\"Train classes mapping:\", train_gen.class_indices)\n",
        "print(\"Test classes mapping:\", test_gen.class_indices)"
      ],
      "metadata": {
        "colab": {
          "base_uri": "https://localhost:8080/"
        },
        "id": "zKqmybzVjFcH",
        "outputId": "ac35121a-6d88-4681-9216-542926a7a32c"
      },
      "execution_count": 8,
      "outputs": [
        {
          "output_type": "stream",
          "name": "stdout",
          "text": [
            "Found 1200 images belonging to 4 classes.\n",
            "Found 400 images belonging to 4 classes.\n",
            "Train classes mapping: {'Dark': 0, 'Green': 1, 'Light': 2, 'Medium': 3}\n",
            "Test classes mapping: {'Dark': 0, 'Green': 1, 'Light': 2, 'Medium': 3}\n"
          ]
        }
      ]
    },
    {
      "cell_type": "code",
      "source": [
        "# ====== Train CBAM-CNN ======\n",
        "# ====== Train CBAM-CNN ======\n",
        "\n",
        "# get number of classes dynamically from generator\n",
        "num_classes = train_gen.num_classes\n",
        "\n",
        "cbam_model = build_cbam_cnn(input_shape=(128,128,3), num_classes=num_classes)\n",
        "\n",
        "cbam_model.compile(\n",
        "    optimizer='adam',\n",
        "    loss='categorical_crossentropy',\n",
        "    metrics=['accuracy']\n",
        ")\n",
        "\n",
        "history = cbam_model.fit(\n",
        "    train_gen,\n",
        "    validation_data=test_gen,\n",
        "    epochs=20,\n",
        "    verbose=1\n",
        ")"
      ],
      "metadata": {
        "colab": {
          "base_uri": "https://localhost:8080/"
        },
        "id": "pMUtZ8OYjM76",
        "outputId": "be3704ed-51f8-46c9-f95e-52b2c23a86cc"
      },
      "execution_count": 9,
      "outputs": [
        {
          "output_type": "stream",
          "name": "stderr",
          "text": [
            "/usr/local/lib/python3.12/dist-packages/keras/src/trainers/data_adapters/py_dataset_adapter.py:121: UserWarning: Your `PyDataset` class should call `super().__init__(**kwargs)` in its constructor. `**kwargs` can include `workers`, `use_multiprocessing`, `max_queue_size`. Do not pass these arguments to `fit()`, as they will be ignored.\n",
            "  self._warn_if_super_not_called()\n"
          ]
        },
        {
          "output_type": "stream",
          "name": "stdout",
          "text": [
            "Epoch 1/20\n",
            "\u001b[1m38/38\u001b[0m \u001b[32m━━━━━━━━━━━━━━━━━━━━\u001b[0m\u001b[37m\u001b[0m \u001b[1m32s\u001b[0m 544ms/step - accuracy: 0.2591 - loss: 1.3866 - val_accuracy: 0.2500 - val_loss: 1.3860\n",
            "Epoch 2/20\n",
            "\u001b[1m38/38\u001b[0m \u001b[32m━━━━━━━━━━━━━━━━━━━━\u001b[0m\u001b[37m\u001b[0m \u001b[1m11s\u001b[0m 295ms/step - accuracy: 0.2685 - loss: 1.3848 - val_accuracy: 0.2500 - val_loss: 1.3451\n",
            "Epoch 3/20\n",
            "\u001b[1m38/38\u001b[0m \u001b[32m━━━━━━━━━━━━━━━━━━━━\u001b[0m\u001b[37m\u001b[0m \u001b[1m8s\u001b[0m 213ms/step - accuracy: 0.3471 - loss: 1.2436 - val_accuracy: 0.4225 - val_loss: 1.3069\n",
            "Epoch 4/20\n",
            "\u001b[1m38/38\u001b[0m \u001b[32m━━━━━━━━━━━━━━━━━━━━\u001b[0m\u001b[37m\u001b[0m \u001b[1m10s\u001b[0m 258ms/step - accuracy: 0.6221 - loss: 0.7908 - val_accuracy: 0.6025 - val_loss: 0.7737\n",
            "Epoch 5/20\n",
            "\u001b[1m38/38\u001b[0m \u001b[32m━━━━━━━━━━━━━━━━━━━━\u001b[0m\u001b[37m\u001b[0m \u001b[1m9s\u001b[0m 246ms/step - accuracy: 0.6913 - loss: 0.6189 - val_accuracy: 0.5750 - val_loss: 0.8252\n",
            "Epoch 6/20\n",
            "\u001b[1m38/38\u001b[0m \u001b[32m━━━━━━━━━━━━━━━━━━━━\u001b[0m\u001b[37m\u001b[0m \u001b[1m8s\u001b[0m 208ms/step - accuracy: 0.7367 - loss: 0.5593 - val_accuracy: 0.6400 - val_loss: 0.7402\n",
            "Epoch 7/20\n",
            "\u001b[1m38/38\u001b[0m \u001b[32m━━━━━━━━━━━━━━━━━━━━\u001b[0m\u001b[37m\u001b[0m \u001b[1m10s\u001b[0m 255ms/step - accuracy: 0.7564 - loss: 0.5393 - val_accuracy: 0.7725 - val_loss: 0.5006\n",
            "Epoch 8/20\n",
            "\u001b[1m38/38\u001b[0m \u001b[32m━━━━━━━━━━━━━━━━━━━━\u001b[0m\u001b[37m\u001b[0m \u001b[1m10s\u001b[0m 256ms/step - accuracy: 0.7162 - loss: 0.6210 - val_accuracy: 0.6525 - val_loss: 0.7087\n",
            "Epoch 9/20\n",
            "\u001b[1m38/38\u001b[0m \u001b[32m━━━━━━━━━━━━━━━━━━━━\u001b[0m\u001b[37m\u001b[0m \u001b[1m9s\u001b[0m 234ms/step - accuracy: 0.7815 - loss: 0.4999 - val_accuracy: 0.4825 - val_loss: 1.3175\n",
            "Epoch 10/20\n",
            "\u001b[1m38/38\u001b[0m \u001b[32m━━━━━━━━━━━━━━━━━━━━\u001b[0m\u001b[37m\u001b[0m \u001b[1m9s\u001b[0m 231ms/step - accuracy: 0.7928 - loss: 0.4843 - val_accuracy: 0.6475 - val_loss: 0.7443\n",
            "Epoch 11/20\n",
            "\u001b[1m38/38\u001b[0m \u001b[32m━━━━━━━━━━━━━━━━━━━━\u001b[0m\u001b[37m\u001b[0m \u001b[1m9s\u001b[0m 245ms/step - accuracy: 0.7662 - loss: 0.4783 - val_accuracy: 0.7175 - val_loss: 0.6125\n",
            "Epoch 12/20\n",
            "\u001b[1m38/38\u001b[0m \u001b[32m━━━━━━━━━━━━━━━━━━━━\u001b[0m\u001b[37m\u001b[0m \u001b[1m9s\u001b[0m 224ms/step - accuracy: 0.7977 - loss: 0.4709 - val_accuracy: 0.5300 - val_loss: 1.1074\n",
            "Epoch 13/20\n",
            "\u001b[1m38/38\u001b[0m \u001b[32m━━━━━━━━━━━━━━━━━━━━\u001b[0m\u001b[37m\u001b[0m \u001b[1m9s\u001b[0m 247ms/step - accuracy: 0.8302 - loss: 0.4144 - val_accuracy: 0.5525 - val_loss: 1.0520\n",
            "Epoch 14/20\n",
            "\u001b[1m38/38\u001b[0m \u001b[32m━━━━━━━━━━━━━━━━━━━━\u001b[0m\u001b[37m\u001b[0m \u001b[1m9s\u001b[0m 243ms/step - accuracy: 0.8283 - loss: 0.4121 - val_accuracy: 0.5300 - val_loss: 1.1545\n",
            "Epoch 15/20\n",
            "\u001b[1m38/38\u001b[0m \u001b[32m━━━━━━━━━━━━━━━━━━━━\u001b[0m\u001b[37m\u001b[0m \u001b[1m8s\u001b[0m 223ms/step - accuracy: 0.8130 - loss: 0.4141 - val_accuracy: 0.5875 - val_loss: 0.9985\n",
            "Epoch 16/20\n",
            "\u001b[1m38/38\u001b[0m \u001b[32m━━━━━━━━━━━━━━━━━━━━\u001b[0m\u001b[37m\u001b[0m \u001b[1m9s\u001b[0m 223ms/step - accuracy: 0.8114 - loss: 0.4129 - val_accuracy: 0.6350 - val_loss: 0.9113\n",
            "Epoch 17/20\n",
            "\u001b[1m38/38\u001b[0m \u001b[32m━━━━━━━━━━━━━━━━━━━━\u001b[0m\u001b[37m\u001b[0m \u001b[1m10s\u001b[0m 254ms/step - accuracy: 0.8449 - loss: 0.3632 - val_accuracy: 0.7675 - val_loss: 0.6128\n",
            "Epoch 18/20\n",
            "\u001b[1m38/38\u001b[0m \u001b[32m━━━━━━━━━━━━━━━━━━━━\u001b[0m\u001b[37m\u001b[0m \u001b[1m8s\u001b[0m 223ms/step - accuracy: 0.8950 - loss: 0.2623 - val_accuracy: 0.7250 - val_loss: 0.6855\n",
            "Epoch 19/20\n",
            "\u001b[1m38/38\u001b[0m \u001b[32m━━━━━━━━━━━━━━━━━━━━\u001b[0m\u001b[37m\u001b[0m \u001b[1m9s\u001b[0m 236ms/step - accuracy: 0.9127 - loss: 0.1877 - val_accuracy: 0.8500 - val_loss: 0.3734\n",
            "Epoch 20/20\n",
            "\u001b[1m38/38\u001b[0m \u001b[32m━━━━━━━━━━━━━━━━━━━━\u001b[0m\u001b[37m\u001b[0m \u001b[1m9s\u001b[0m 241ms/step - accuracy: 0.9215 - loss: 0.1866 - val_accuracy: 0.8700 - val_loss: 0.2903\n"
          ]
        }
      ]
    },
    {
      "cell_type": "code",
      "source": [
        "# ====== Feature Extraction ======\n",
        "feature_extractor = models.Model(\n",
        "    inputs=cbam_model.input,\n",
        "    outputs=cbam_model.get_layer(\"feat_dense\").output  # 256-d features\n",
        ")\n",
        "\n",
        "X_train = feature_extractor.predict(train_gen, verbose=1)\n",
        "X_val   = feature_extractor.predict(test_gen, verbose=1)\n",
        "\n",
        "y_train = train_gen.classes\n",
        "y_val   = test_gen.classes\n",
        "unique_classes = np.unique(y_train)"
      ],
      "metadata": {
        "colab": {
          "base_uri": "https://localhost:8080/"
        },
        "id": "E2033MbejUaV",
        "outputId": "8030847c-fe3b-4448-d426-a6a73bef1296"
      },
      "execution_count": 11,
      "outputs": [
        {
          "output_type": "stream",
          "name": "stdout",
          "text": [
            "\u001b[1m38/38\u001b[0m \u001b[32m━━━━━━━━━━━━━━━━━━━━\u001b[0m\u001b[37m\u001b[0m \u001b[1m10s\u001b[0m 204ms/step\n",
            "\u001b[1m13/13\u001b[0m \u001b[32m━━━━━━━━━━━━━━━━━━━━\u001b[0m\u001b[37m\u001b[0m \u001b[1m1s\u001b[0m 61ms/step\n"
          ]
        }
      ]
    },
    {
      "cell_type": "code",
      "source": [
        "# ====== Random Forest (CV on Train Features) ======\n",
        "kf = StratifiedKFold(n_splits=3, shuffle=True, random_state=42)\n",
        "fold = 1\n",
        "acc_list, auc_list = [], []\n",
        "\n",
        "for tr_idx, te_idx in kf.split(X_train, y_train):\n",
        "    X_tr, X_te = X_train[tr_idx], X_train[te_idx]\n",
        "    y_tr, y_te = y_train[tr_idx], y_train[te_idx]\n",
        "\n",
        "    rf = RandomForestClassifier(\n",
        "        n_estimators=500,\n",
        "        max_depth=None,\n",
        "        min_samples_split=2,\n",
        "        min_samples_leaf=1,\n",
        "        n_jobs=-1,\n",
        "        random_state=42\n",
        "    )\n",
        "    rf.fit(X_tr, y_tr)\n",
        "\n",
        "    y_pred  = rf.predict(X_te)\n",
        "    y_proba = rf.predict_proba(X_te)\n",
        "\n",
        "    acc = accuracy_score(y_te, y_pred)\n",
        "    acc_list.append(acc)\n",
        "\n",
        "    # Multi-class ROC-AUC (One-vs-Rest)\n",
        "    y_te_bin = label_binarize(y_te, classes=unique_classes)\n",
        "    # if a fold is missing a class, skip AUC\n",
        "    if y_te_bin.shape[1] < num_classes:\n",
        "        print(f\"Fold {fold} - Accuracy: {acc:.4f}, ROC-AUC skipped (not all classes in fold)\")\n",
        "        auc_list.append(np.nan)\n",
        "    else:\n",
        "        # Align columns of y_proba to unique_classes order\n",
        "        # rf.classes_ gives column order in predict_proba\n",
        "        class_order = rf.classes_\n",
        "        reorder_idx = [np.where(class_order == c)[0][0] for c in unique_classes]\n",
        "        y_proba_ordered = y_proba[:, reorder_idx]\n",
        "\n",
        "        auc_score = roc_auc_score(y_te_bin, y_proba_ordered, multi_class='ovr')\n",
        "        auc_list.append(auc_score)\n",
        "        print(f\"Fold {fold} - Accuracy: {acc:.4f}, AUC: {auc_score:.4f}\")\n",
        "\n",
        "    fold += 1\n",
        "    print(\"Mean CV Accuracy:\", np.nanmean(acc_list))\n",
        "print(\"Mean CV AUC:\", np.nanmean(auc_list))"
      ],
      "metadata": {
        "colab": {
          "base_uri": "https://localhost:8080/"
        },
        "id": "nE9o7Q6-jXaF",
        "outputId": "09342398-9fb6-4641-bf49-efc8d632de11"
      },
      "execution_count": 12,
      "outputs": [
        {
          "output_type": "stream",
          "name": "stdout",
          "text": [
            "Fold 1 - Accuracy: 0.2275, AUC: 0.5023\n",
            "Mean CV Accuracy: 0.2275\n",
            "Fold 2 - Accuracy: 0.2450, AUC: 0.5155\n",
            "Mean CV Accuracy: 0.23625000000000002\n",
            "Fold 3 - Accuracy: 0.2850, AUC: 0.5151\n",
            "Mean CV Accuracy: 0.2525\n",
            "Mean CV AUC: 0.5109500000000001\n"
          ]
        }
      ]
    },
    {
      "cell_type": "code",
      "source": [
        "# ====== Train RF on Full Train Features & Evaluate on Validation ======\n",
        "rf_final = RandomForestClassifier(\n",
        "    n_estimators=500,\n",
        "    max_depth=None,\n",
        "    min_samples_split=2,\n",
        "    min_samples_leaf=1,\n",
        "    n_jobs=-1,\n",
        "    random_state=42\n",
        ")\n",
        "rf_final.fit(X_train, y_train)\n",
        "\n",
        "y_val_pred  = rf_final.predict(X_val)\n",
        "y_val_proba = rf_final.predict_proba(X_val)\n",
        "\n",
        "print(\"\\n=== Validation Metrics ===\")\n",
        "print(\"Accuracy:\", accuracy_score(y_val, y_val_pred))\n",
        "print(\"Precision (macro):\", precision_score(y_val, y_val_pred, average='macro'))\n",
        "print(\"Recall (macro):\", recall_score(y_val, y_val_pred, average='macro'))\n",
        "print(\"F1-score (macro):\", f1_score(y_val, y_val_pred, average='macro'))\n",
        "print(\"Confusion Matrix:\\n\", confusion_matrix(y_val, y_val_pred))"
      ],
      "metadata": {
        "colab": {
          "base_uri": "https://localhost:8080/"
        },
        "id": "b5XlNGapjhz5",
        "outputId": "b8aeba4a-a4c8-48d2-e0b1-b6aea5191332"
      },
      "execution_count": 13,
      "outputs": [
        {
          "output_type": "stream",
          "name": "stdout",
          "text": [
            "\n",
            "=== Validation Metrics ===\n",
            "Accuracy: 0.1775\n",
            "Precision (macro): 0.17096896159396158\n",
            "Recall (macro): 0.1775\n",
            "F1-score (macro): 0.17172081626906827\n",
            "Confusion Matrix:\n",
            " [[ 9  9 36 46]\n",
            " [37 16 17 30]\n",
            " [40 34  9 17]\n",
            " [26 18 19 37]]\n"
          ]
        }
      ]
    },
    {
      "cell_type": "code",
      "source": [
        "from sklearn.metrics import accuracy_score, precision_score, recall_score, f1_score, confusion_matrix, roc_auc_score, roc_curve, auc\n",
        "from sklearn.preprocessing import label_binarize\n",
        "import matplotlib.pyplot as plt\n",
        "import numpy as np\n",
        "\n",
        "# ====== Validation metrics ======\n",
        "y_val_pred = rf_final.predict(X_val)\n",
        "y_val_proba = rf_final.predict_proba(X_val)\n",
        "\n",
        "print(\"Accuracy:\", accuracy_score(y_val, y_val_pred))\n",
        "print(\"Precision:\", precision_score(y_val, y_val_pred, average='macro'))\n",
        "print(\"Recall:\", recall_score(y_val, y_val_pred, average='macro'))\n",
        "print(\"F1-score:\", f1_score(y_val, y_val_pred, average='macro'))\n",
        "print(\"Confusion Matrix:\\n\", confusion_matrix(y_val, y_val_pred))\n",
        "\n",
        "# ====== ROC-AUC ======\n",
        "unique_classes = np.unique(y_val)  # ensure consistent ordering\n",
        "y_val_bin = label_binarize(y_val, classes=unique_classes)\n",
        "\n",
        "if y_val_bin.shape[1] < len(unique_classes):\n",
        "    print(\"ROC-AUC skipped: not all classes present in validation set\")\n",
        "else:\n",
        "    # Reorder probability columns to match unique_classes\n",
        "    class_order = rf_final.classes_\n",
        "    reorder_idx = [np.where(class_order == c)[0][0] for c in unique_classes]\n",
        "    y_val_proba_ordered = y_val_proba[:, reorder_idx]\n",
        "\n",
        "    val_auc = roc_auc_score(y_val_bin, y_val_proba_ordered, multi_class='ovr')\n",
        "    print(\"Validation AUC (OvR):\", val_auc)\n",
        "\n",
        "    # ====== ROC Curves (per class) ======\n",
        "    # Create int -> class label mapping\n",
        "    idx_to_class = {v:k for k,v in train_gen.class_indices.items()}  # 0->'Dark', etc.\n",
        "\n",
        "    plt.figure(figsize=(8,6))\n",
        "    for i, cls in enumerate(unique_classes):\n",
        "        fpr, tpr, _ = roc_curve(y_val_bin[:, i], y_val_proba_ordered[:, i])\n",
        "        plt.plot(fpr, tpr, label=f\"{idx_to_class[cls]} (AUC = {auc(fpr, tpr):.2f})\")\n",
        "\n",
        "    plt.plot([0,1], [0,1], 'k--')\n",
        "    plt.xlabel(\"False Positive Rate\")\n",
        "    plt.ylabel(\"True Positive Rate\")\n",
        "    plt.title(\"ROC Curves (Validation Set) - Random Forest on CBAM-CNN Features\")\n",
        "    plt.legend()\n",
        "    plt.show()"
      ],
      "metadata": {
        "colab": {
          "base_uri": "https://localhost:8080/",
          "height": 747
        },
        "id": "wn8bYDmWjlkE",
        "outputId": "6cf81fb4-4814-44a8-a226-7f7f908de131"
      },
      "execution_count": 14,
      "outputs": [
        {
          "output_type": "stream",
          "name": "stdout",
          "text": [
            "Accuracy: 0.1775\n",
            "Precision: 0.17096896159396158\n",
            "Recall: 0.1775\n",
            "F1-score: 0.17172081626906827\n",
            "Confusion Matrix:\n",
            " [[ 9  9 36 46]\n",
            " [37 16 17 30]\n",
            " [40 34  9 17]\n",
            " [26 18 19 37]]\n",
            "Validation AUC (OvR): 0.4331041666666666\n"
          ]
        },
        {
          "output_type": "display_data",
          "data": {
            "text/plain": [
              "<Figure size 800x600 with 1 Axes>"
            ],
            "image/png": "[encoded data removed]"
          },
          "metadata": {}
        }
      ]
    }
  ]
}